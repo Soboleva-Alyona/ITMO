{
 "cells": [
  {
   "cell_type": "code",
   "execution_count": 1,
   "id": "ab1d9e86",
   "metadata": {
    "id": "ab1d9e86",
    "pycharm": {
     "is_executing": true
    }
   },
   "outputs": [],
   "source": [
    "import pandas as pd\n",
    "import numpy as np\n",
    "from sklearn.ensemble import RandomForestClassifier"
   ]
  },
  {
   "cell_type": "markdown",
   "id": "niwVsJW4YcUB",
   "metadata": {
    "id": "niwVsJW4YcUB"
   },
   "source": [
    "#### Загрузка датасета"
   ]
  },
  {
   "cell_type": "code",
   "execution_count": 3,
   "id": "ol8CnEoKX6_-",
   "metadata": {
    "id": "ol8CnEoKX6_-"
   },
   "outputs": [
    {
     "name": "stdout",
     "output_type": "stream",
     "text": [
      "Defaulting to user installation because normal site-packages is not writeable\n",
      "Collecting google-colab\n",
      "  Downloading google-colab-1.0.0.tar.gz (72 kB)\n",
      "\u001B[2K     \u001B[90m━━━━━━━━━━━━━━━━━━━━━━━━━━━━━━━━━━━━━━━\u001B[0m \u001B[32m72.9/72.9 kB\u001B[0m \u001B[31m921.3 kB/s\u001B[0m eta \u001B[36m0:00:00\u001B[0m \u001B[36m0:00:01\u001B[0m\n",
      "\u001B[?25h  Preparing metadata (setup.py) ... \u001B[?25ldone\n",
      "\u001B[?25hCollecting google-auth~=1.4.0 (from google-colab)\n",
      "  Downloading google_auth-1.4.2-py2.py3-none-any.whl (64 kB)\n",
      "\u001B[2K     \u001B[90m━━━━━━━━━━━━━━━━━━━━━━━━━━━━━━━━━━━━━━━━\u001B[0m \u001B[32m64.2/64.2 kB\u001B[0m \u001B[31m2.0 MB/s\u001B[0m eta \u001B[36m0:00:00\u001B[0m\n",
      "\u001B[?25hCollecting ipykernel~=4.6.0 (from google-colab)\n",
      "  Downloading ipykernel-4.6.1-py3-none-any.whl (104 kB)\n",
      "\u001B[2K     \u001B[90m━━━━━━━━━━━━━━━━━━━━━━━━━━━━━━━━━━━━━━━\u001B[0m \u001B[32m104.5/104.5 kB\u001B[0m \u001B[31m2.5 MB/s\u001B[0m eta \u001B[36m0:00:00\u001B[0m\n",
      "\u001B[?25hCollecting ipython~=5.5.0 (from google-colab)\n",
      "  Downloading ipython-5.5.0-py3-none-any.whl (758 kB)\n",
      "\u001B[2K     \u001B[90m━━━━━━━━━━━━━━━━━━━━━━━━━━━━━━━━━━━━━━━\u001B[0m \u001B[32m758.9/758.9 kB\u001B[0m \u001B[31m6.0 MB/s\u001B[0m eta \u001B[36m0:00:00\u001B[0m00:01\u001B[0m00:01\u001B[0m\n",
      "\u001B[?25hCollecting notebook~=5.2.0 (from google-colab)\n",
      "  Downloading notebook-5.2.2-py2.py3-none-any.whl (8.0 MB)\n",
      "\u001B[2K     \u001B[90m━━━━━━━━━━━━━━━━━━━━━━━━━━━━━━━━━━━━━━━━\u001B[0m \u001B[32m8.0/8.0 MB\u001B[0m \u001B[31m8.7 MB/s\u001B[0m eta \u001B[36m0:00:00\u001B[0m00:01\u001B[0m00:01\u001B[0mm\n",
      "\u001B[?25hCollecting six~=1.12.0 (from google-colab)\n",
      "  Downloading six-1.12.0-py2.py3-none-any.whl (10 kB)\n",
      "Collecting pandas~=0.24.0 (from google-colab)\n",
      "  Downloading pandas-0.24.2.tar.gz (11.8 MB)\n",
      "\u001B[2K     \u001B[90m━━━━━━━━━━━━━━━━━━━━━━━━━━━━━━━━━━━━━━━━\u001B[0m \u001B[32m11.8/11.8 MB\u001B[0m \u001B[31m7.8 MB/s\u001B[0m eta \u001B[36m0:00:00\u001B[0m00:01\u001B[0m00:01\u001B[0m\n",
      "\u001B[?25h  Preparing metadata (setup.py) ... \u001B[?25ldone\n",
      "\u001B[?25hCollecting portpicker~=1.2.0 (from google-colab)\n",
      "  Downloading portpicker-1.2.0.tar.gz (17 kB)\n",
      "  Preparing metadata (setup.py) ... \u001B[?25ldone\n",
      "\u001B[?25hCollecting requests~=2.21.0 (from google-colab)\n",
      "  Downloading requests-2.21.0-py2.py3-none-any.whl (57 kB)\n",
      "\u001B[2K     \u001B[90m━━━━━━━━━━━━━━━━━━━━━━━━━━━━━━━━━━━━━━━━\u001B[0m \u001B[32m58.0/58.0 kB\u001B[0m \u001B[31m1.9 MB/s\u001B[0m eta \u001B[36m0:00:00\u001B[0m\n",
      "\u001B[?25hCollecting tornado~=4.5.0 (from google-colab)\n",
      "  Downloading tornado-4.5.3.tar.gz (484 kB)\n",
      "\u001B[2K     \u001B[90m━━━━━━━━━━━━━━━━━━━━━━━━━━━━━━━━━━━━━━━\u001B[0m \u001B[32m484.2/484.2 kB\u001B[0m \u001B[31m5.8 MB/s\u001B[0m eta \u001B[36m0:00:00\u001B[0m00:01\u001B[0m00:01\u001B[0m\n",
      "\u001B[?25h  Preparing metadata (setup.py) ... \u001B[?25ldone\n",
      "\u001B[?25hRequirement already satisfied: pyasn1-modules>=0.2.1 in /Users/esoboleva/Library/Python/3.8/lib/python/site-packages (from google-auth~=1.4.0->google-colab) (0.3.0)\n",
      "Requirement already satisfied: rsa>=3.1.4 in /Users/esoboleva/Library/Python/3.8/lib/python/site-packages (from google-auth~=1.4.0->google-colab) (4.9)\n",
      "Requirement already satisfied: cachetools>=2.0.0 in /Users/esoboleva/Library/Python/3.8/lib/python/site-packages (from google-auth~=1.4.0->google-colab) (5.3.1)\n",
      "Requirement already satisfied: jupyter-client in /Users/esoboleva/Library/Python/3.8/lib/python/site-packages (from ipykernel~=4.6.0->google-colab) (8.2.0)\n",
      "Requirement already satisfied: traitlets>=4.1.0 in /Users/esoboleva/Library/Python/3.8/lib/python/site-packages (from ipykernel~=4.6.0->google-colab) (5.9.0)\n",
      "Requirement already satisfied: decorator in /Users/esoboleva/Library/Python/3.8/lib/python/site-packages (from ipython~=5.5.0->google-colab) (5.1.1)\n",
      "Requirement already satisfied: pickleshare in /Users/esoboleva/Library/Python/3.8/lib/python/site-packages (from ipython~=5.5.0->google-colab) (0.7.5)\n",
      "Collecting prompt-toolkit<2.0.0,>=1.0.4 (from ipython~=5.5.0->google-colab)\n",
      "  Downloading prompt_toolkit-1.0.18-py3-none-any.whl (245 kB)\n",
      "\u001B[2K     \u001B[90m━━━━━━━━━━━━━━━━━━━━━━━━━━━━━━━━━━━━━━━\u001B[0m \u001B[32m245.4/245.4 kB\u001B[0m \u001B[31m4.7 MB/s\u001B[0m eta \u001B[36m0:00:00\u001B[0ma \u001B[36m0:00:01\u001B[0m\n",
      "\u001B[?25hRequirement already satisfied: pygments in /Users/esoboleva/Library/Python/3.8/lib/python/site-packages (from ipython~=5.5.0->google-colab) (2.14.0)\n",
      "Requirement already satisfied: setuptools>=18.5 in /Library/Developer/CommandLineTools/Library/Frameworks/Python3.framework/Versions/3.8/lib/python3.8/site-packages (from ipython~=5.5.0->google-colab) (49.2.1)\n",
      "Collecting simplegeneric>0.8 (from ipython~=5.5.0->google-colab)\n",
      "  Downloading simplegeneric-0.8.1.zip (12 kB)\n",
      "  Preparing metadata (setup.py) ... \u001B[?25ldone\n",
      "\u001B[?25hRequirement already satisfied: pexpect in /Users/esoboleva/Library/Python/3.8/lib/python/site-packages (from ipython~=5.5.0->google-colab) (4.8.0)\n",
      "Requirement already satisfied: appnope in /Users/esoboleva/Library/Python/3.8/lib/python/site-packages (from ipython~=5.5.0->google-colab) (0.1.3)\n",
      "Requirement already satisfied: ipython-genutils in /Users/esoboleva/Library/Python/3.8/lib/python/site-packages (from notebook~=5.2.0->google-colab) (0.2.0)\n",
      "Requirement already satisfied: jinja2 in /Users/esoboleva/Library/Python/3.8/lib/python/site-packages (from notebook~=5.2.0->google-colab) (3.1.2)\n",
      "Requirement already satisfied: jupyter-core in /Users/esoboleva/Library/Python/3.8/lib/python/site-packages (from notebook~=5.2.0->google-colab) (5.3.0)\n",
      "Requirement already satisfied: nbconvert in /Users/esoboleva/Library/Python/3.8/lib/python/site-packages (from notebook~=5.2.0->google-colab) (7.4.0)\n",
      "Requirement already satisfied: nbformat in /Users/esoboleva/Library/Python/3.8/lib/python/site-packages (from notebook~=5.2.0->google-colab) (5.9.0)\n",
      "Requirement already satisfied: terminado>=0.3.3 in /Users/esoboleva/Library/Python/3.8/lib/python/site-packages (from notebook~=5.2.0->google-colab) (0.17.1)\n",
      "Requirement already satisfied: python-dateutil>=2.5.0 in /Library/Python/3.8/site-packages (from pandas~=0.24.0->google-colab) (2.8.2)\n",
      "Requirement already satisfied: pytz>=2011k in /Library/Python/3.8/site-packages (from pandas~=0.24.0->google-colab) (2022.7.1)\n",
      "Requirement already satisfied: numpy>=1.12.0 in /Users/esoboleva/Library/Python/3.8/lib/python/site-packages (from pandas~=0.24.0->google-colab) (1.24.3)\n",
      "Collecting chardet<3.1.0,>=3.0.2 (from requests~=2.21.0->google-colab)\n",
      "  Downloading chardet-3.0.4-py2.py3-none-any.whl (133 kB)\n",
      "\u001B[2K     \u001B[90m━━━━━━━━━━━━━━━━━━━━━━━━━━━━━━━━━━━━━━━\u001B[0m \u001B[32m133.4/133.4 kB\u001B[0m \u001B[31m3.9 MB/s\u001B[0m eta \u001B[36m0:00:00\u001B[0m\n",
      "\u001B[?25hCollecting idna<2.9,>=2.5 (from requests~=2.21.0->google-colab)\n",
      "  Downloading idna-2.8-py2.py3-none-any.whl (58 kB)\n",
      "\u001B[2K     \u001B[90m━━━━━━━━━━━━━━━━━━━━━━━━━━━━━━━━━━━━━━━━\u001B[0m \u001B[32m58.6/58.6 kB\u001B[0m \u001B[31m2.0 MB/s\u001B[0m eta \u001B[36m0:00:00\u001B[0m\n",
      "\u001B[?25hCollecting urllib3<1.25,>=1.21.1 (from requests~=2.21.0->google-colab)\n",
      "  Downloading urllib3-1.24.3-py2.py3-none-any.whl (118 kB)\n",
      "\u001B[2K     \u001B[90m━━━━━━━━━━━━━━━━━━━━━━━━━━━━━━━━━━━━━━━\u001B[0m \u001B[32m118.8/118.8 kB\u001B[0m \u001B[31m3.3 MB/s\u001B[0m eta \u001B[36m0:00:00\u001B[0m\n",
      "\u001B[?25hRequirement already satisfied: certifi>=2017.4.17 in /Users/esoboleva/Library/Python/3.8/lib/python/site-packages (from requests~=2.21.0->google-colab) (2022.12.7)\n",
      "Requirement already satisfied: wcwidth in /Users/esoboleva/Library/Python/3.8/lib/python/site-packages (from prompt-toolkit<2.0.0,>=1.0.4->ipython~=5.5.0->google-colab) (0.2.6)\n",
      "Requirement already satisfied: pyasn1<0.6.0,>=0.4.6 in /Users/esoboleva/Library/Python/3.8/lib/python/site-packages (from pyasn1-modules>=0.2.1->google-auth~=1.4.0->google-colab) (0.5.0)\n",
      "Requirement already satisfied: ptyprocess in /Users/esoboleva/Library/Python/3.8/lib/python/site-packages (from terminado>=0.3.3->notebook~=5.2.0->google-colab) (0.7.0)\n",
      "INFO: pip is looking at multiple versions of terminado to determine which version is compatible with other requirements. This could take a while.\n",
      "Collecting terminado>=0.3.3 (from notebook~=5.2.0->google-colab)\n",
      "  Downloading terminado-0.17.0-py3-none-any.whl (16 kB)\n",
      "  Downloading terminado-0.16.0-py3-none-any.whl (16 kB)\n",
      "  Downloading terminado-0.15.0-py3-none-any.whl (16 kB)\n",
      "  Downloading terminado-0.13.3-py3-none-any.whl (14 kB)\n",
      "Requirement already satisfied: MarkupSafe>=2.0 in /Users/esoboleva/Library/Python/3.8/lib/python/site-packages (from jinja2->notebook~=5.2.0->google-colab) (2.1.2)\n",
      "Requirement already satisfied: importlib-metadata>=4.8.3 in /Users/esoboleva/Library/Python/3.8/lib/python/site-packages (from jupyter-client->ipykernel~=4.6.0->google-colab) (6.0.0)\n",
      "Requirement already satisfied: pyzmq>=23.0 in /Users/esoboleva/Library/Python/3.8/lib/python/site-packages (from jupyter-client->ipykernel~=4.6.0->google-colab) (25.0.0)\n",
      "INFO: pip is looking at multiple versions of jupyter-client to determine which version is compatible with other requirements. This could take a while.\n"
     ]
    },
    {
     "name": "stdout",
     "output_type": "stream",
     "text": [
      "Collecting jupyter-client (from ipykernel~=4.6.0->google-colab)\n",
      "  Downloading jupyter_client-8.1.0-py3-none-any.whl (102 kB)\n",
      "\u001B[2K     \u001B[90m━━━━━━━━━━━━━━━━━━━━━━━━━━━━━━━━━━━━━━━\u001B[0m \u001B[32m102.9/102.9 kB\u001B[0m \u001B[31m2.6 MB/s\u001B[0m eta \u001B[36m0:00:00\u001B[0m\n",
      "\u001B[?25h  Using cached jupyter_client-8.0.3-py3-none-any.whl (102 kB)\n",
      "  Downloading jupyter_client-8.0.2-py3-none-any.whl (103 kB)\n",
      "\u001B[2K     \u001B[90m━━━━━━━━━━━━━━━━━━━━━━━━━━━━━━━━━━━━━━━\u001B[0m \u001B[32m103.3/103.3 kB\u001B[0m \u001B[31m3.5 MB/s\u001B[0m eta \u001B[36m0:00:00\u001B[0m\n",
      "\u001B[?25h  Downloading jupyter_client-8.0.1-py3-none-any.whl (103 kB)\n",
      "\u001B[2K     \u001B[90m━━━━━━━━━━━━━━━━━━━━━━━━━━━━━━━━━━━━━━━\u001B[0m \u001B[32m103.2/103.2 kB\u001B[0m \u001B[31m3.3 MB/s\u001B[0m eta \u001B[36m0:00:00\u001B[0m\n",
      "\u001B[?25h  Downloading jupyter_client-8.0.0-py3-none-any.whl (103 kB)\n",
      "\u001B[2K     \u001B[90m━━━━━━━━━━━━━━━━━━━━━━━━━━━━━━━━━━━━━━━\u001B[0m \u001B[32m103.2/103.2 kB\u001B[0m \u001B[31m3.4 MB/s\u001B[0m eta \u001B[36m0:00:00\u001B[0m\n",
      "\u001B[?25h  Using cached jupyter_client-7.4.9-py3-none-any.whl (133 kB)\n",
      "Collecting entrypoints (from jupyter-client->ipykernel~=4.6.0->google-colab)\n",
      "  Using cached entrypoints-0.4-py3-none-any.whl (5.3 kB)\n",
      "Requirement already satisfied: nest-asyncio>=1.5.4 in /Users/esoboleva/Library/Python/3.8/lib/python/site-packages (from jupyter-client->ipykernel~=4.6.0->google-colab) (1.5.6)\n",
      "Collecting jupyter-client (from ipykernel~=4.6.0->google-colab)\n",
      "  Downloading jupyter_client-7.4.8-py3-none-any.whl (133 kB)\n",
      "\u001B[2K     \u001B[90m━━━━━━━━━━━━━━━━━━━━━━━━━━━━━━━━━━━━━━━\u001B[0m \u001B[32m133.5/133.5 kB\u001B[0m \u001B[31m3.9 MB/s\u001B[0m eta \u001B[36m0:00:00\u001B[0m\n",
      "\u001B[?25hINFO: pip is looking at multiple versions of jupyter-client to determine which version is compatible with other requirements. This could take a while.\n",
      "  Downloading jupyter_client-7.4.7-py3-none-any.whl (133 kB)\n",
      "\u001B[2K     \u001B[90m━━━━━━━━━━━━━━━━━━━━━━━━━━━━━━━━━━━━━━━\u001B[0m \u001B[32m133.5/133.5 kB\u001B[0m \u001B[31m3.4 MB/s\u001B[0m eta \u001B[36m0:00:00\u001B[0m\n",
      "\u001B[?25h  Downloading jupyter_client-7.4.6-py3-none-any.whl (133 kB)\n",
      "\u001B[2K     \u001B[90m━━━━━━━━━━━━━━━━━━━━━━━━━━━━━━━━━━━━━━━\u001B[0m \u001B[32m133.5/133.5 kB\u001B[0m \u001B[31m3.6 MB/s\u001B[0m eta \u001B[36m0:00:00\u001B[0m\n",
      "\u001B[?25h  Downloading jupyter_client-7.4.5-py3-none-any.whl (132 kB)\n",
      "\u001B[2K     \u001B[90m━━━━━━━━━━━━━━━━━━━━━━━━━━━━━━━━━━━━━━━\u001B[0m \u001B[32m132.3/132.3 kB\u001B[0m \u001B[31m4.0 MB/s\u001B[0m eta \u001B[36m0:00:00\u001B[0m\n",
      "\u001B[?25h  Downloading jupyter_client-7.4.4-py3-none-any.whl (132 kB)\n",
      "\u001B[2K     \u001B[90m━━━━━━━━━━━━━━━━━━━━━━━━━━━━━━━━━━━━━━━\u001B[0m \u001B[32m132.3/132.3 kB\u001B[0m \u001B[31m3.2 MB/s\u001B[0m eta \u001B[36m0:00:00\u001B[0ma \u001B[36m0:00:01\u001B[0m\n",
      "\u001B[?25h  Downloading jupyter_client-7.4.3-py3-none-any.whl (132 kB)\n",
      "\u001B[2K     \u001B[90m━━━━━━━━━━━━━━━━━━━━━━━━━━━━━━━━━━━━━━━\u001B[0m \u001B[32m132.2/132.2 kB\u001B[0m \u001B[31m2.8 MB/s\u001B[0m eta \u001B[36m0:00:00\u001B[0ma \u001B[36m0:00:01\u001B[0m\n",
      "\u001B[?25hINFO: This is taking longer than usual. You might need to provide the dependency resolver with stricter constraints to reduce runtime. See https://pip.pypa.io/warnings/backtracking for guidance. If you want to abort this run, press Ctrl + C.\n",
      "  Downloading jupyter_client-7.4.2-py3-none-any.whl (132 kB)\n",
      "\u001B[2K     \u001B[90m━━━━━━━━━━━━━━━━━━━━━━━━━━━━━━━━━━━━━━━\u001B[0m \u001B[32m132.2/132.2 kB\u001B[0m \u001B[31m4.4 MB/s\u001B[0m eta \u001B[36m0:00:00\u001B[0m\n",
      "\u001B[?25h  Downloading jupyter_client-7.4.1-py3-none-any.whl (132 kB)\n",
      "\u001B[2K     \u001B[90m━━━━━━━━━━━━━━━━━━━━━━━━━━━━━━━━━━━━━━━\u001B[0m \u001B[32m132.1/132.1 kB\u001B[0m \u001B[31m3.4 MB/s\u001B[0m eta \u001B[36m0:00:00\u001B[0m\n",
      "\u001B[?25h  Downloading jupyter_client-7.4.0-py3-none-any.whl (132 kB)\n",
      "\u001B[2K     \u001B[90m━━━━━━━━━━━━━━━━━━━━━━━━━━━━━━━━━━━━━━━\u001B[0m \u001B[32m132.2/132.2 kB\u001B[0m \u001B[31m3.8 MB/s\u001B[0m eta \u001B[36m0:00:00\u001B[0m\n",
      "\u001B[?25h  Downloading jupyter_client-7.3.5-py3-none-any.whl (132 kB)\n",
      "\u001B[2K     \u001B[90m━━━━━━━━━━━━━━━━━━━━━━━━━━━━━━━━━━━━━━━\u001B[0m \u001B[32m132.1/132.1 kB\u001B[0m \u001B[31m3.9 MB/s\u001B[0m eta \u001B[36m0:00:00\u001B[0m\n",
      "\u001B[?25h  Downloading jupyter_client-7.3.4-py3-none-any.whl (132 kB)\n",
      "\u001B[2K     \u001B[90m━━━━━━━━━━━━━━━━━━━━━━━━━━━━━━━━━━━━━━━\u001B[0m \u001B[32m132.1/132.1 kB\u001B[0m \u001B[31m2.6 MB/s\u001B[0m eta \u001B[36m0:00:00\u001B[0ma \u001B[36m0:00:01\u001B[0m\n",
      "\u001B[?25h  Downloading jupyter_client-7.3.3-py3-none-any.whl (131 kB)\n",
      "\u001B[2K     \u001B[90m━━━━━━━━━━━━━━━━━━━━━━━━━━━━━━━━━━━━━━━\u001B[0m \u001B[32m132.0/132.0 kB\u001B[0m \u001B[31m4.1 MB/s\u001B[0m eta \u001B[36m0:00:00\u001B[0ma \u001B[36m0:00:01\u001B[0m\n",
      "\u001B[?25h  Downloading jupyter_client-7.3.2-py3-none-any.whl (131 kB)\n",
      "\u001B[2K     \u001B[90m━━━━━━━━━━━━━━━━━━━━━━━━━━━━━━━━━━━━━━━\u001B[0m \u001B[32m131.9/131.9 kB\u001B[0m \u001B[31m2.8 MB/s\u001B[0m eta \u001B[36m0:00:00\u001B[0ma \u001B[36m0:00:01\u001B[0m\n",
      "\u001B[?25h  Downloading jupyter_client-7.3.1-py3-none-any.whl (130 kB)\n",
      "\u001B[2K     \u001B[90m━━━━━━━━━━━━━━━━━━━━━━━━━━━━━━━━━━━━━━━\u001B[0m \u001B[32m131.0/131.0 kB\u001B[0m \u001B[31m4.2 MB/s\u001B[0m eta \u001B[36m0:00:00\u001B[0m\n",
      "\u001B[?25h  Downloading jupyter_client-7.3.0-py3-none-any.whl (130 kB)\n",
      "\u001B[2K     \u001B[90m━━━━━━━━━━━━━━━━━━━━━━━━━━━━━━━━━━━━━━━\u001B[0m \u001B[32m130.9/130.9 kB\u001B[0m \u001B[31m4.1 MB/s\u001B[0m eta \u001B[36m0:00:00\u001B[0m\n",
      "\u001B[?25h  Downloading jupyter_client-7.2.2-py3-none-any.whl (130 kB)\n",
      "\u001B[2K     \u001B[90m━━━━━━━━━━━━━━━━━━━━━━━━━━━━━━━━━━━━━━━\u001B[0m \u001B[32m130.6/130.6 kB\u001B[0m \u001B[31m4.4 MB/s\u001B[0m eta \u001B[36m0:00:00\u001B[0m\n",
      "\u001B[?25h  Downloading jupyter_client-7.2.1-py3-none-any.whl (130 kB)\n",
      "\u001B[2K     \u001B[90m━━━━━━━━━━━━━━━━━━━━━━━━━━━━━━━━━━━━━━━\u001B[0m \u001B[32m130.4/130.4 kB\u001B[0m \u001B[31m3.7 MB/s\u001B[0m eta \u001B[36m0:00:00\u001B[0m\n",
      "\u001B[?25h  Downloading jupyter_client-7.2.0-py3-none-any.whl (130 kB)\n",
      "\u001B[2K     \u001B[90m━━━━━━━━━━━━━━━━━━━━━━━━━━━━━━━━━━━━━━━\u001B[0m \u001B[32m130.5/130.5 kB\u001B[0m \u001B[31m3.1 MB/s\u001B[0m eta \u001B[36m0:00:00\u001B[0ma \u001B[36m0:00:01\u001B[0m\n",
      "\u001B[?25h  Downloading jupyter_client-7.1.2-py3-none-any.whl (130 kB)\n",
      "\u001B[2K     \u001B[90m━━━━━━━━━━━━━━━━━━━━━━━━━━━━━━━━━━━━━━━\u001B[0m \u001B[32m130.3/130.3 kB\u001B[0m \u001B[31m3.9 MB/s\u001B[0m eta \u001B[36m0:00:00\u001B[0m\n",
      "\u001B[?25hRequirement already satisfied: platformdirs>=2.5 in /Users/esoboleva/Library/Python/3.8/lib/python/site-packages (from jupyter-core->notebook~=5.2.0->google-colab) (3.1.0)\n",
      "Requirement already satisfied: beautifulsoup4 in /Users/esoboleva/Library/Python/3.8/lib/python/site-packages (from nbconvert->notebook~=5.2.0->google-colab) (4.11.2)\n",
      "Requirement already satisfied: bleach in /Users/esoboleva/Library/Python/3.8/lib/python/site-packages (from nbconvert->notebook~=5.2.0->google-colab) (6.0.0)\n",
      "Requirement already satisfied: defusedxml in /Users/esoboleva/Library/Python/3.8/lib/python/site-packages (from nbconvert->notebook~=5.2.0->google-colab) (0.7.1)\n",
      "Requirement already satisfied: jupyterlab-pygments in /Users/esoboleva/Library/Python/3.8/lib/python/site-packages (from nbconvert->notebook~=5.2.0->google-colab) (0.2.2)\n",
      "Requirement already satisfied: mistune<3,>=2.0.3 in /Users/esoboleva/Library/Python/3.8/lib/python/site-packages (from nbconvert->notebook~=5.2.0->google-colab) (2.0.5)\n",
      "Requirement already satisfied: nbclient>=0.5.0 in /Users/esoboleva/Library/Python/3.8/lib/python/site-packages (from nbconvert->notebook~=5.2.0->google-colab) (0.8.0)\n",
      "Requirement already satisfied: packaging in /Users/esoboleva/Library/Python/3.8/lib/python/site-packages (from nbconvert->notebook~=5.2.0->google-colab) (23.0)\n",
      "Requirement already satisfied: pandocfilters>=1.4.1 in /Users/esoboleva/Library/Python/3.8/lib/python/site-packages (from nbconvert->notebook~=5.2.0->google-colab) (1.5.0)\n",
      "Requirement already satisfied: tinycss2 in /Users/esoboleva/Library/Python/3.8/lib/python/site-packages (from nbconvert->notebook~=5.2.0->google-colab) (1.2.1)\n",
      "Requirement already satisfied: fastjsonschema in /Users/esoboleva/Library/Python/3.8/lib/python/site-packages (from nbformat->notebook~=5.2.0->google-colab) (2.16.3)\n",
      "Requirement already satisfied: jsonschema>=2.6 in /Users/esoboleva/Library/Python/3.8/lib/python/site-packages (from nbformat->notebook~=5.2.0->google-colab) (4.17.3)\n",
      "Requirement already satisfied: zipp>=0.5 in /Users/esoboleva/Library/Python/3.8/lib/python/site-packages (from importlib-metadata>=4.8.3->jupyter-client->ipykernel~=4.6.0->google-colab) (3.15.0)\n",
      "Requirement already satisfied: attrs>=17.4.0 in /Users/esoboleva/Library/Python/3.8/lib/python/site-packages (from jsonschema>=2.6->nbformat->notebook~=5.2.0->google-colab) (22.2.0)\n",
      "Requirement already satisfied: importlib-resources>=1.4.0 in /Users/esoboleva/Library/Python/3.8/lib/python/site-packages (from jsonschema>=2.6->nbformat->notebook~=5.2.0->google-colab) (5.12.0)\n",
      "Requirement already satisfied: pkgutil-resolve-name>=1.3.10 in /Users/esoboleva/Library/Python/3.8/lib/python/site-packages (from jsonschema>=2.6->nbformat->notebook~=5.2.0->google-colab) (1.3.10)\n",
      "Requirement already satisfied: pyrsistent!=0.17.0,!=0.17.1,!=0.17.2,>=0.14.0 in /Users/esoboleva/Library/Python/3.8/lib/python/site-packages (from jsonschema>=2.6->nbformat->notebook~=5.2.0->google-colab) (0.19.3)\n"
     ]
    },
    {
     "name": "stdout",
     "output_type": "stream",
     "text": [
      "Requirement already satisfied: soupsieve>1.2 in /Users/esoboleva/Library/Python/3.8/lib/python/site-packages (from beautifulsoup4->nbconvert->notebook~=5.2.0->google-colab) (2.4)\n",
      "Requirement already satisfied: webencodings in /Users/esoboleva/Library/Python/3.8/lib/python/site-packages (from bleach->nbconvert->notebook~=5.2.0->google-colab) (0.5.1)\n",
      "Building wheels for collected packages: google-colab, pandas, portpicker, tornado, simplegeneric\n",
      "  Building wheel for google-colab (setup.py) ... \u001B[?25ldone\n",
      "\u001B[?25h  Created wheel for google-colab: filename=google_colab-1.0.0-py2.py3-none-any.whl size=102289 sha256=91ada6f76afab7e71f87d52abae402c4555440b58701466266dccdd1852bd384\n",
      "  Stored in directory: /Users/esoboleva/Library/Caches/pip/wheels/e4/e7/91/b2736701bca00e273fdc79f80e2727b558e0903d81b758eb69\n",
      "  Building wheel for pandas (setup.py) ... \u001B[?25l-^C\n",
      "\u001B[?25canceled\n",
      "\u001B[31mERROR: Operation cancelled by user\u001B[0m\u001B[31m\n",
      "\u001B[0m"
     ]
    },
    {
     "ename": "ModuleNotFoundError",
     "evalue": "No module named 'google.colab'",
     "output_type": "error",
     "traceback": [
      "\u001B[0;31m---------------------------------------------------------------------------\u001B[0m",
      "\u001B[0;31mModuleNotFoundError\u001B[0m                       Traceback (most recent call last)",
      "Cell \u001B[0;32mIn[3], line 8\u001B[0m\n\u001B[1;32m      6\u001B[0m \u001B[38;5;28;01mfrom\u001B[39;00m \u001B[38;5;21;01mpydrive\u001B[39;00m\u001B[38;5;21;01m.\u001B[39;00m\u001B[38;5;21;01mauth\u001B[39;00m \u001B[38;5;28;01mimport\u001B[39;00m GoogleAuth\n\u001B[1;32m      7\u001B[0m \u001B[38;5;28;01mfrom\u001B[39;00m \u001B[38;5;21;01mpydrive\u001B[39;00m\u001B[38;5;21;01m.\u001B[39;00m\u001B[38;5;21;01mdrive\u001B[39;00m \u001B[38;5;28;01mimport\u001B[39;00m GoogleDrive\n\u001B[0;32m----> 8\u001B[0m \u001B[38;5;28;01mfrom\u001B[39;00m \u001B[38;5;21;01mgoogle\u001B[39;00m\u001B[38;5;21;01m.\u001B[39;00m\u001B[38;5;21;01mcolab\u001B[39;00m \u001B[38;5;28;01mimport\u001B[39;00m auth\n\u001B[1;32m      9\u001B[0m \u001B[38;5;28;01mfrom\u001B[39;00m \u001B[38;5;21;01moauth2client\u001B[39;00m\u001B[38;5;21;01m.\u001B[39;00m\u001B[38;5;21;01mclient\u001B[39;00m \u001B[38;5;28;01mimport\u001B[39;00m GoogleCredentials\n\u001B[1;32m     11\u001B[0m auth\u001B[38;5;241m.\u001B[39mauthenticate_user()\n",
      "\u001B[0;31mModuleNotFoundError\u001B[0m: No module named 'google.colab'"
     ]
    }
   ],
   "source": []
  },
  {
   "cell_type": "code",
   "execution_count": 4,
   "id": "6f901a02",
   "metadata": {
    "colab": {
     "base_uri": "https://localhost:8080/"
    },
    "id": "6f901a02",
    "outputId": "36c3d164-e814-497d-f59d-4415068b7f33"
   },
   "outputs": [
    {
     "name": "stdout",
     "output_type": "stream",
     "text": [
      "     class                                               text\n",
      "0      ham  Go until jurong point, crazy.. Available only ...\n",
      "1      ham                      Ok lar... Joking wif u oni...\n",
      "2     spam  Free entry in 2 a wkly comp to win FA Cup fina...\n",
      "3      ham  U dun say so early hor... U c already then say...\n",
      "4      ham  Nah I don't think he goes to usf, he lives aro...\n",
      "...    ...                                                ...\n",
      "5567  spam  This is the 2nd time we have tried 2 contact u...\n",
      "5568   ham               Will ü b going to esplanade fr home?\n",
      "5569   ham  Pity, * was in mood for that. So...any other s...\n",
      "5570   ham  The guy did some bitching but I acted like i'd...\n",
      "5571   ham                         Rofl. Its true to its name\n",
      "\n",
      "[5572 rows x 2 columns]\n"
     ]
    }
   ],
   "source": [
    "data = pd.read_csv('SMS.tsv', sep='\\t')\n",
    "print(data)"
   ]
  },
  {
   "cell_type": "code",
   "execution_count": 5,
   "id": "3c4c987c",
   "metadata": {
    "colab": {
     "base_uri": "https://localhost:8080/",
     "height": 206
    },
    "id": "3c4c987c",
    "outputId": "ed93efb4-4cb4-470e-ddb7-857a60436005"
   },
   "outputs": [
    {
     "data": {
      "text/html": [
       "<div>\n",
       "<style scoped>\n",
       "    .dataframe tbody tr th:only-of-type {\n",
       "        vertical-align: middle;\n",
       "    }\n",
       "\n",
       "    .dataframe tbody tr th {\n",
       "        vertical-align: top;\n",
       "    }\n",
       "\n",
       "    .dataframe thead th {\n",
       "        text-align: right;\n",
       "    }\n",
       "</style>\n",
       "<table border=\"1\" class=\"dataframe\">\n",
       "  <thead>\n",
       "    <tr style=\"text-align: right;\">\n",
       "      <th></th>\n",
       "      <th>class</th>\n",
       "      <th>text</th>\n",
       "    </tr>\n",
       "  </thead>\n",
       "  <tbody>\n",
       "    <tr>\n",
       "      <th>0</th>\n",
       "      <td>ham</td>\n",
       "      <td>Go until jurong point, crazy.. Available only ...</td>\n",
       "    </tr>\n",
       "    <tr>\n",
       "      <th>1</th>\n",
       "      <td>ham</td>\n",
       "      <td>Ok lar... Joking wif u oni...</td>\n",
       "    </tr>\n",
       "    <tr>\n",
       "      <th>2</th>\n",
       "      <td>spam</td>\n",
       "      <td>Free entry in 2 a wkly comp to win FA Cup fina...</td>\n",
       "    </tr>\n",
       "    <tr>\n",
       "      <th>3</th>\n",
       "      <td>ham</td>\n",
       "      <td>U dun say so early hor... U c already then say...</td>\n",
       "    </tr>\n",
       "    <tr>\n",
       "      <th>4</th>\n",
       "      <td>ham</td>\n",
       "      <td>Nah I don't think he goes to usf, he lives aro...</td>\n",
       "    </tr>\n",
       "  </tbody>\n",
       "</table>\n",
       "</div>"
      ],
      "text/plain": [
       "  class                                               text\n",
       "0   ham  Go until jurong point, crazy.. Available only ...\n",
       "1   ham                      Ok lar... Joking wif u oni...\n",
       "2  spam  Free entry in 2 a wkly comp to win FA Cup fina...\n",
       "3   ham  U dun say so early hor... U c already then say...\n",
       "4   ham  Nah I don't think he goes to usf, he lives aro..."
      ]
     },
     "execution_count": 5,
     "metadata": {},
     "output_type": "execute_result"
    }
   ],
   "source": [
    "data.head()"
   ]
  },
  {
   "cell_type": "code",
   "execution_count": 6,
   "id": "ofUhdvFDcilE",
   "metadata": {
    "id": "ofUhdvFDcilE"
   },
   "outputs": [],
   "source": [
    "from sklearn.feature_extraction.text import TfidfVectorizer\n",
    "import string\n",
    "import re\n",
    "\n",
    "X_text = []\n",
    "\n",
    "for s in data['text']:\n",
    "    s = s.translate(str.maketrans('', '', string.punctuation))\n",
    "    s = re.sub('\\s+', ' ', s)\n",
    "    s = re.sub('\\d+', '', s)\n",
    "    s = s.lower()\n",
    "    X_text.append(s)\n",
    "\n",
    "vectorizer = TfidfVectorizer()\n",
    "\n",
    "X = vectorizer.fit_transform(X_text)\n",
    "X = pd.DataFrame(X.toarray(), columns = vectorizer.get_feature_names_out())\n",
    "\n",
    "y = []\n",
    "for i in data['class']:\n",
    "    if i == 'spam':\n",
    "        y.append(1)\n",
    "    else:\n",
    "        y.append(0)"
   ]
  },
  {
   "cell_type": "markdown",
   "id": "74b6dcb5",
   "metadata": {
    "id": "74b6dcb5"
   },
   "source": [
    "### Встроенный метод"
   ]
  },
  {
   "cell_type": "code",
   "execution_count": 7,
   "id": "2a77e8e3",
   "metadata": {
    "id": "2a77e8e3"
   },
   "outputs": [],
   "source": [
    "model = RandomForestClassifier(n_estimators=100)\n",
    "\n",
    "model.fit(X, y)\n",
    "\n",
    "importances = model.feature_importances_"
   ]
  },
  {
   "cell_type": "code",
   "execution_count": 8,
   "id": "ZbStgpj-ieYB",
   "metadata": {
    "id": "ZbStgpj-ieYB"
   },
   "outputs": [],
   "source": [
    "embedded_first_30=pd.Series(importances, X.columns).sort_values(ascending=False)[:30]"
   ]
  },
  {
   "cell_type": "code",
   "execution_count": 9,
   "id": "S7ek_70IkL86",
   "metadata": {
    "colab": {
     "base_uri": "https://localhost:8080/"
    },
    "id": "S7ek_70IkL86",
    "outputId": "2a1e1975-43b3-40bb-aca5-b5eaa6c9e057"
   },
   "outputs": [
    {
     "data": {
      "text/plain": [
       "(5572, 8608)"
      ]
     },
     "execution_count": 9,
     "metadata": {},
     "output_type": "execute_result"
    }
   ],
   "source": [
    "X.shape"
   ]
  },
  {
   "cell_type": "markdown",
   "id": "-LWL9mxus790",
   "metadata": {
    "id": "-LWL9mxus790"
   },
   "source": [
    "### Обёрточный метод"
   ]
  },
  {
   "cell_type": "code",
   "execution_count": 10,
   "id": "BCVYG-CtiKOL",
   "metadata": {
    "colab": {
     "base_uri": "https://localhost:8080/"
    },
    "id": "BCVYG-CtiKOL",
    "outputId": "4c9e5339-1400-4c2a-cfdb-6810fbd43a6e"
   },
   "outputs": [
    {
     "name": "stdout",
     "output_type": "stream",
     "text": [
      "(5572, 8608)\n",
      "(5572, 7608)\n",
      "(5572, 6608)\n",
      "(5572, 5608)\n",
      "(5572, 4608)\n",
      "(5572, 3608)\n",
      "(5572, 2608)\n",
      "(5572, 1608)\n"
     ]
    }
   ],
   "source": [
    "model = RandomForestClassifier(n_estimators=100)\n",
    "X_wrap = X\n",
    "\n",
    "while len(X_wrap.columns) > 1000:\n",
    "  print(X_wrap.shape)\n",
    "  model.fit(X_wrap, y)\n",
    "  importances = pd.DataFrame(model.feature_importances_, X_wrap.columns).sort_values(by=0, axis=0, ascending=True)\n",
    "  for i in range(1000):\n",
    "    X_wrap = X_wrap.drop([importances.index[i]], axis=1)"
   ]
  },
  {
   "cell_type": "code",
   "execution_count": null,
   "id": "b58dbf8b",
   "metadata": {
    "id": "b58dbf8b"
   },
   "outputs": [],
   "source": [
    "wrapper_first_30=pd.Series(importances, X_wrap.columns).sort_values(ascending=False)[:30]\n",
    "len(wrapper_first_30)"
   ]
  },
  {
   "cell_type": "markdown",
   "id": "RiALjrzT6E1t",
   "metadata": {
    "id": "RiALjrzT6E1t"
   },
   "source": [
    "#### Фильтрующий метод"
   ]
  },
  {
   "cell_type": "code",
   "execution_count": 11,
   "id": "K69C9Al_6Hbm",
   "metadata": {
    "id": "K69C9Al_6Hbm"
   },
   "outputs": [],
   "source": [
    "X_filter = X\n",
    "\n",
    "corr_coefs = X_filter.corr(method='pearson')['class']"
   ]
  },
  {
   "cell_type": "code",
   "execution_count": null,
   "id": "bcd97846",
   "metadata": {},
   "outputs": [],
   "source": [
    "filter_first_30 = corr_coefs.sort_values(ascending=False)[:30]"
   ]
  },
  {
   "cell_type": "code",
   "execution_count": null,
   "id": "2IlPqMR8dFoE",
   "metadata": {
    "id": "2IlPqMR8dFoE"
   },
   "outputs": [],
   "source": [
    "print('Первые 30 признаков для встроенного метода:')\n",
    "print(embedded_first_30.index)\n",
    "print('\\nПервые 30 признаков для метода обёртки:')\n",
    "print(wrapper_first_30.index)"
   ]
  },
  {
   "cell_type": "markdown",
   "id": "EnL4bvu_dp35",
   "metadata": {
    "id": "EnL4bvu_dp35"
   },
   "source": [
    "#### Сравнение с библиотечными"
   ]
  },
  {
   "cell_type": "code",
   "execution_count": null,
   "id": "lZeN34mpdWcJ",
   "metadata": {
    "id": "lZeN34mpdWcJ"
   },
   "outputs": [],
   "source": []
  },
  {
   "cell_type": "code",
   "execution_count": null,
   "id": "1Bpw3qUfdpiy",
   "metadata": {
    "id": "1Bpw3qUfdpiy"
   },
   "outputs": [],
   "source": []
  }
 ],
 "metadata": {
  "colab": {
   "collapsed_sections": [
    "74b6dcb5"
   ],
   "provenance": []
  },
  "kernelspec": {
   "display_name": "Python 3 (ipykernel)",
   "language": "python",
   "name": "python3"
  },
  "language_info": {
   "codemirror_mode": {
    "name": "ipython",
    "version": 3
   },
   "file_extension": ".py",
   "mimetype": "text/x-python",
   "name": "python",
   "nbconvert_exporter": "python",
   "pygments_lexer": "ipython3",
   "version": "3.8.9"
  }
 },
 "nbformat": 4,
 "nbformat_minor": 5
}
