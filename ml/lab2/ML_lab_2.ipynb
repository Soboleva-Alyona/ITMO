{
 "cells": [
  {
   "cell_type": "markdown",
   "metadata": {
    "id": "reosD4rzD2Du"
   },
   "source": [
    "## Общие функции"
   ]
  },
  {
   "cell_type": "code",
   "execution_count": null,
   "metadata": {
    "colab": {
     "base_uri": "https://localhost:8080/"
    },
    "id": "1YDN_jnKUwoa",
    "outputId": "344c368d-6b47-4821-cb3c-192f0320f935"
   },
   "outputs": [
    {
     "name": "stdout",
     "output_type": "stream",
     "text": [
      "Downloading data from https://storage.googleapis.com/tensorflow/tf-keras-datasets/mnist.npz\n",
      "11490434/11490434 [==============================] - 0s 0us/step\n"
     ]
    },
    {
     "data": {
      "text/plain": [
       "(60000, 28, 28)"
      ]
     },
     "execution_count": 1,
     "metadata": {},
     "output_type": "execute_result"
    }
   ],
   "source": [
    "from keras.datasets import mnist\n",
    "(train_x, train_y), (test_x, test_y) = mnist.load_data()\n",
    "train_x.shape"
   ]
  },
  {
   "cell_type": "code",
   "execution_count": null,
   "metadata": {
    "id": "MyOJsyX5VO82"
   },
   "outputs": [],
   "source": [
    "# constants \n",
    "num_epochs = 2\n",
    "batch_size = 50\n",
    "mnist_model_name = 'mnist_model.ckpt'\n",
    "MODEL_STORE_PATH = \"./\"\n",
    "continuation_fashion_mnist_model_name = 'continuation_fashion_mnist_model.ckpt'\n",
    "fashion_mnist_model_name = 'fashion_mnist_model.ckpt'\n",
    "freeze_fashion_mnist_model_name = 'freeze_fashion_mnist_model.ckpt'\n",
    "unfreeze_fashion_mnist_model_name = 'unfreeze_fashion_mnist_model.ckpt'"
   ]
  },
  {
   "cell_type": "code",
   "execution_count": null,
   "metadata": {
    "id": "pfvZlrmgDZFw"
   },
   "outputs": [],
   "source": [
    "# imports \n",
    "import tensorflow as tf\n",
    "import torch.nn as nn\n",
    "from tensorflow.keras import datasets, layers, models\n",
    "import torch.nn.functional as F\n",
    "import torch\n",
    "import torch.optim as optim\n",
    "from torchvision import datasets, transforms\n",
    "from torch.autograd import Variable\n",
    "import matplotlib.pyplot as plt\n",
    "import numpy as np\n",
    "import time"
   ]
  },
  {
   "cell_type": "code",
   "execution_count": null,
   "metadata": {
    "id": "72_0tjIdex4L"
   },
   "outputs": [],
   "source": [
    "def do_train_and_test_by_loader(model, train_loader, test_loader, criterion=nn.CrossEntropyLoss(), num_epochs=num_epochs):  \n",
    "  start_time = time.time()\n",
    "  learning_rate = 0.001\n",
    "  criterion = nn.CrossEntropyLoss() # объединяет и SoftMax и кросс-энтропийную функцию потерь в единую функцию\n",
    "  optimizer = torch.optim.SGD(model.parameters(), lr=learning_rate, momentum=0.5)\n",
    "\n",
    "  total_step = len(train_loader)\n",
    "  train_loss = []\n",
    "  train_acc = []\n",
    "  test_acc = []\n",
    "  risks = []\n",
    "  iter = 0\n",
    "\n",
    "  check_point = 10_000 // batch_size\n",
    "\n",
    "  risk = 0.0\n",
    "\n",
    "  for epoch in range(num_epochs):\n",
    "      for i, (images, labels) in enumerate(train_loader):\n",
    "        iter += 1\n",
    "        # Прямой запуск\n",
    "        outputs = model(images)\n",
    "        loss = criterion(outputs, labels)\n",
    "        risk += loss.item()\n",
    "\n",
    "        # Обратное распространение и оптимизатор\n",
    "        optimizer.zero_grad()\n",
    "        loss.backward()\n",
    "        optimizer.step()\n",
    "\n",
    "        # Отслеживание точности\n",
    "        total = labels.size(0)\n",
    "        _, predicted = torch.max(outputs.data, 1)\n",
    "        correct = (predicted == labels).sum().item()\n",
    "        \n",
    "        if iter % check_point == 0:\n",
    "          risks.append(risk / check_point)\n",
    "          risk = 0.0\n",
    "          train_loss.append(loss.item())\n",
    "          train_acc.append(correct / total)\n",
    "          with torch.no_grad():\n",
    "            test_correct = 0\n",
    "            test_total = 0\n",
    "            for images, labels in test_loader:\n",
    "                outputs = model(images)\n",
    "                _, predicted = torch.max(outputs.data, 1)\n",
    "                test_total += labels.size(0)\n",
    "                test_correct += (predicted == labels).sum().item()\n",
    "\n",
    "            test_acc.append(test_correct / test_total)\n",
    "\n",
    "          print('Epoch [{}/{}], Step [{}/{}] '\n",
    "                  .format(epoch + 1, num_epochs, i + 1, total_step))\n",
    "          print('   Train: Loss: {:.4f}, Accuracy: {:.2f}%'\n",
    "                  .format(loss.item(), (correct / total) * 100))\n",
    "          print('   Test: Accuracy: {:.2f}%'\n",
    "                .format((test_correct / test_total) * 100))\n",
    "  print('Execution time: {} seconds'.format(time.time() - start_time))\n",
    "  return train_acc, test_acc, risks"
   ]
  },
  {
   "cell_type": "code",
   "execution_count": null,
   "metadata": {
    "id": "3Cgcw2jYJ7QB"
   },
   "outputs": [],
   "source": [
    "def plot_acc_and_risks(train_acc, test_acc, risks, file_name):\n",
    "  # Сохраняем модель и строим график\n",
    "  torch.save(model.state_dict(), MODEL_STORE_PATH + file_name)\n",
    "\n",
    "  plt.rcParams[\"figure.figsize\"] = (4,4)  \n",
    "  plt.plot(np.arange(len(train_acc)), train_acc)\n",
    "  plt.plot(np.arange(len(test_acc)), test_acc, \"g-\")\n",
    "  plt.plot(np.arange(len(risks)), risks, \"r-\")\n",
    "  plt.title('model accuracy and risks')\n",
    "  plt.ylabel('accuracy')\n",
    "\n",
    "  plt.xlabel('epoch')\n",
    "  plt.legend(['train', 'test', 'risk'], loc='upper left')\n",
    "  plt.show()"
   ]
  },
  {
   "cell_type": "markdown",
   "metadata": {
    "id": "yXl9wAULePRr"
   },
   "source": [
    "## MNIST"
   ]
  },
  {
   "cell_type": "code",
   "execution_count": null,
   "metadata": {
    "id": "FpgTLidVO9EZ"
   },
   "outputs": [],
   "source": [
    "class MnistModel(nn.Module):\n",
    "    def __init__(self):\n",
    "        super(MnistModel, self).__init__()\n",
    "        self.layer1 = nn.Sequential( nn.Conv2d(1, 32, kernel_size=5, stride=1, padding=2), nn.ReLU(), nn.MaxPool2d(kernel_size=2, stride=2)) \n",
    "        self.layer2 = nn.Sequential( nn.Conv2d(32, 64, kernel_size=5, stride=1, padding=2), nn.ReLU(), nn.MaxPool2d(kernel_size=2, stride=2)) \n",
    "        self.drop_out = nn.Dropout() \n",
    "        self.fc1 = nn.Linear(7 * 7 * 64, 1000) \n",
    "        self.fc2 = nn.Linear(1000, 10)\n",
    "\n",
    "    def _block(self, dim_in: int, dim_out: int, kernel_size: int = 5, padding: int = 2) -> nn.Module:\n",
    "        return nn.Sequential(\n",
    "           nn.Conv2d(dim_in, dim_out, kernel_size, padding=padding), \n",
    "           nn.ReLU(),\n",
    "           nn.MaxPool2d(2, 2)\n",
    "        )\n",
    "\n",
    "    def forward(self, x):\n",
    "        out = self.layer1(x) \n",
    "        out = self.layer2(out) \n",
    "        out = out.reshape(out.size(0), -1) \n",
    "        out = self.drop_out(out) \n",
    "        out = self.fc1(out) \n",
    "        out = self.fc2(out) \n",
    "        return out\n",
    "    \n",
    "model = MnistModel()\n",
    "# model"
   ]
  },
  {
   "cell_type": "code",
   "execution_count": null,
   "metadata": {
    "colab": {
     "base_uri": "https://localhost:8080/"
    },
    "id": "k5sva0rCum-b",
    "outputId": "563f52c7-43fd-4660-d1a1-8b7f86f8f1a1"
   },
   "outputs": [
    {
     "name": "stdout",
     "output_type": "stream",
     "text": [
      "Downloading http://yann.lecun.com/exdb/mnist/train-images-idx3-ubyte.gz\n",
      "Downloading http://yann.lecun.com/exdb/mnist/train-images-idx3-ubyte.gz to data/MNIST/raw/train-images-idx3-ubyte.gz\n"
     ]
    },
    {
     "name": "stderr",
     "output_type": "stream",
     "text": [
      "100%|██████████| 9912422/9912422 [00:00<00:00, 101006798.24it/s]\n"
     ]
    },
    {
     "name": "stdout",
     "output_type": "stream",
     "text": [
      "Extracting data/MNIST/raw/train-images-idx3-ubyte.gz to data/MNIST/raw\n",
      "\n",
      "Downloading http://yann.lecun.com/exdb/mnist/train-labels-idx1-ubyte.gz\n",
      "Downloading http://yann.lecun.com/exdb/mnist/train-labels-idx1-ubyte.gz to data/MNIST/raw/train-labels-idx1-ubyte.gz\n"
     ]
    },
    {
     "name": "stderr",
     "output_type": "stream",
     "text": [
      "100%|██████████| 28881/28881 [00:00<00:00, 30329417.58it/s]\n"
     ]
    },
    {
     "name": "stdout",
     "output_type": "stream",
     "text": [
      "Extracting data/MNIST/raw/train-labels-idx1-ubyte.gz to data/MNIST/raw\n",
      "\n",
      "Downloading http://yann.lecun.com/exdb/mnist/t10k-images-idx3-ubyte.gz\n",
      "Downloading http://yann.lecun.com/exdb/mnist/t10k-images-idx3-ubyte.gz to data/MNIST/raw/t10k-images-idx3-ubyte.gz\n"
     ]
    },
    {
     "name": "stderr",
     "output_type": "stream",
     "text": [
      "100%|██████████| 1648877/1648877 [00:00<00:00, 26919824.67it/s]\n"
     ]
    },
    {
     "name": "stdout",
     "output_type": "stream",
     "text": [
      "Extracting data/MNIST/raw/t10k-images-idx3-ubyte.gz to data/MNIST/raw\n",
      "\n",
      "Downloading http://yann.lecun.com/exdb/mnist/t10k-labels-idx1-ubyte.gz\n",
      "Downloading http://yann.lecun.com/exdb/mnist/t10k-labels-idx1-ubyte.gz to data/MNIST/raw/t10k-labels-idx1-ubyte.gz\n"
     ]
    },
    {
     "name": "stderr",
     "output_type": "stream",
     "text": [
      "100%|██████████| 4542/4542 [00:00<00:00, 3417135.21it/s]\n"
     ]
    },
    {
     "name": "stdout",
     "output_type": "stream",
     "text": [
      "Extracting data/MNIST/raw/t10k-labels-idx1-ubyte.gz to data/MNIST/raw\n",
      "\n"
     ]
    }
   ],
   "source": [
    "train_loader = torch.utils.data.DataLoader(\n",
    "    datasets.MNIST(\n",
    "        'data', \n",
    "        train=True, \n",
    "        download=True, \n",
    "        transform=transforms.Compose([\n",
    "            transforms.ToTensor(),\n",
    "            transforms.Normalize((0.1307,), (0.3081,))\n",
    "        ])\n",
    "        ),\n",
    "    batch_size=batch_size, shuffle=True)\n",
    "test_loader = torch.utils.data.DataLoader(\n",
    "    datasets.MNIST(\n",
    "        'data', \n",
    "        train=False, \n",
    "        download=True, \n",
    "        transform=transforms.Compose([\n",
    "            transforms.ToTensor(),\n",
    "            transforms.Normalize((0.1307,), (0.3081,))\n",
    "        ])\n",
    "        ),\n",
    "    batch_size=batch_size, shuffle=True)"
   ]
  },
  {
   "cell_type": "code",
   "execution_count": null,
   "metadata": {
    "colab": {
     "base_uri": "https://localhost:8080/"
    },
    "id": "ZOhOLQxNppC8",
    "outputId": "638a831d-3bff-45d2-f56b-2c1c9ab68d1c"
   },
   "outputs": [
    {
     "name": "stdout",
     "output_type": "stream",
     "text": [
      "Epoch [1/5], Step [200/1200] \n",
      "   Train: Loss: 2.0230, Accuracy: 50.00%\n",
      "   Test: Accuracy: 58.33%\n",
      "Epoch [1/5], Step [400/1200] \n",
      "   Train: Loss: 1.0073, Accuracy: 78.00%\n",
      "   Test: Accuracy: 75.11%\n",
      "Epoch [1/5], Step [600/1200] \n",
      "   Train: Loss: 0.6947, Accuracy: 80.00%\n",
      "   Test: Accuracy: 81.82%\n",
      "Epoch [1/5], Step [800/1200] \n",
      "   Train: Loss: 0.3646, Accuracy: 88.00%\n",
      "   Test: Accuracy: 85.21%\n",
      "Epoch [1/5], Step [1000/1200] \n",
      "   Train: Loss: 0.4137, Accuracy: 88.00%\n",
      "   Test: Accuracy: 87.22%\n",
      "Epoch [1/5], Step [1200/1200] \n",
      "   Train: Loss: 0.4151, Accuracy: 86.00%\n",
      "   Test: Accuracy: 88.68%\n",
      "Epoch [2/5], Step [200/1200] \n",
      "   Train: Loss: 0.5329, Accuracy: 80.00%\n",
      "   Test: Accuracy: 89.51%\n",
      "Epoch [2/5], Step [400/1200] \n",
      "   Train: Loss: 0.3067, Accuracy: 90.00%\n",
      "   Test: Accuracy: 90.55%\n",
      "Epoch [2/5], Step [600/1200] \n",
      "   Train: Loss: 0.2454, Accuracy: 92.00%\n",
      "   Test: Accuracy: 91.01%\n",
      "Epoch [2/5], Step [800/1200] \n",
      "   Train: Loss: 0.3343, Accuracy: 90.00%\n",
      "   Test: Accuracy: 91.19%\n",
      "Epoch [2/5], Step [1000/1200] \n",
      "   Train: Loss: 0.1482, Accuracy: 96.00%\n",
      "   Test: Accuracy: 91.94%\n",
      "Epoch [2/5], Step [1200/1200] \n",
      "   Train: Loss: 0.2682, Accuracy: 90.00%\n",
      "   Test: Accuracy: 92.46%\n",
      "Epoch [3/5], Step [200/1200] \n",
      "   Train: Loss: 0.1783, Accuracy: 96.00%\n",
      "   Test: Accuracy: 92.94%\n",
      "Epoch [3/5], Step [400/1200] \n",
      "   Train: Loss: 0.3336, Accuracy: 82.00%\n",
      "   Test: Accuracy: 93.51%\n",
      "Epoch [3/5], Step [600/1200] \n",
      "   Train: Loss: 0.2180, Accuracy: 90.00%\n",
      "   Test: Accuracy: 93.70%\n",
      "Epoch [3/5], Step [800/1200] \n",
      "   Train: Loss: 0.2036, Accuracy: 92.00%\n",
      "   Test: Accuracy: 93.61%\n",
      "Epoch [3/5], Step [1000/1200] \n",
      "   Train: Loss: 0.2938, Accuracy: 94.00%\n",
      "   Test: Accuracy: 93.99%\n",
      "Epoch [3/5], Step [1200/1200] \n",
      "   Train: Loss: 0.3174, Accuracy: 92.00%\n",
      "   Test: Accuracy: 94.71%\n",
      "Epoch [4/5], Step [200/1200] \n",
      "   Train: Loss: 0.2112, Accuracy: 92.00%\n",
      "   Test: Accuracy: 94.39%\n",
      "Epoch [4/5], Step [400/1200] \n",
      "   Train: Loss: 0.2470, Accuracy: 94.00%\n",
      "   Test: Accuracy: 94.82%\n",
      "Epoch [4/5], Step [600/1200] \n",
      "   Train: Loss: 0.1570, Accuracy: 96.00%\n",
      "   Test: Accuracy: 95.09%\n",
      "Epoch [4/5], Step [800/1200] \n",
      "   Train: Loss: 0.1251, Accuracy: 96.00%\n",
      "   Test: Accuracy: 94.81%\n",
      "Epoch [4/5], Step [1000/1200] \n",
      "   Train: Loss: 0.3679, Accuracy: 90.00%\n",
      "   Test: Accuracy: 95.20%\n",
      "Epoch [4/5], Step [1200/1200] \n",
      "   Train: Loss: 0.2605, Accuracy: 92.00%\n",
      "   Test: Accuracy: 95.42%\n",
      "Epoch [5/5], Step [200/1200] \n",
      "   Train: Loss: 0.1582, Accuracy: 96.00%\n",
      "   Test: Accuracy: 95.77%\n",
      "Epoch [5/5], Step [400/1200] \n",
      "   Train: Loss: 0.0367, Accuracy: 100.00%\n",
      "   Test: Accuracy: 95.40%\n",
      "Epoch [5/5], Step [600/1200] \n",
      "   Train: Loss: 0.0632, Accuracy: 100.00%\n",
      "   Test: Accuracy: 95.82%\n",
      "Epoch [5/5], Step [800/1200] \n",
      "   Train: Loss: 0.0347, Accuracy: 100.00%\n",
      "   Test: Accuracy: 95.94%\n",
      "Epoch [5/5], Step [1000/1200] \n",
      "   Train: Loss: 0.2415, Accuracy: 96.00%\n",
      "   Test: Accuracy: 95.93%\n",
      "Epoch [5/5], Step [1200/1200] \n",
      "   Train: Loss: 0.0517, Accuracy: 100.00%\n",
      "   Test: Accuracy: 96.00%\n",
      "Execution time: 1146.0691800117493 seconds\n"
     ]
    }
   ],
   "source": [
    "train_acc, test_acc, risks = do_train_and_test_by_loader(model, train_loader, test_loader)"
   ]
  },
  {
   "cell_type": "code",
   "execution_count": null,
   "metadata": {
    "colab": {
     "base_uri": "https://localhost:8080/",
     "height": 410
    },
    "id": "j2DtxnOhDg3z",
    "outputId": "7e8ca3aa-8cbd-4a3d-a79b-2968a3b04321"
   },
   "outputs": [
    {
     "data": {
      "image/png": "[encoded data removed]",
      "text/plain": [
       "<Figure size 400x400 with 1 Axes>"
      ]
     },
     "metadata": {},
     "output_type": "display_data"
    }
   ],
   "source": [
    "plot_acc_and_risks(train_acc, test_acc, risks, mnist_model_name)"
   ]
  },
  {
   "cell_type": "markdown",
   "metadata": {
    "id": "O1Pi-Gv3eTpX"
   },
   "source": [
    "## Fashion Mnist "
   ]
  },
  {
   "cell_type": "code",
   "execution_count": null,
   "metadata": {
    "colab": {
     "base_uri": "https://localhost:8080/"
    },
    "id": "cmmFzVRka5MI",
    "outputId": "8e814c96-8159-42be-b022-1657c6c55901"
   },
   "outputs": [
    {
     "name": "stdout",
     "output_type": "stream",
     "text": [
      "Epoch [1/2], Step [200/1200] \n",
      "   Train: Loss: 2.1923, Accuracy: 30.00%\n",
      "   Test: Accuracy: 28.57%\n",
      "Epoch [1/2], Step [400/1200] \n",
      "   Train: Loss: 1.8415, Accuracy: 54.00%\n",
      "   Test: Accuracy: 49.04%\n",
      "Epoch [1/2], Step [600/1200] \n",
      "   Train: Loss: 1.2537, Accuracy: 62.00%\n",
      "   Test: Accuracy: 57.73%\n",
      "Epoch [1/2], Step [800/1200] \n",
      "   Train: Loss: 0.9033, Accuracy: 70.00%\n",
      "   Test: Accuracy: 60.31%\n",
      "Epoch [1/2], Step [1000/1200] \n",
      "   Train: Loss: 1.3050, Accuracy: 48.00%\n",
      "   Test: Accuracy: 61.77%\n",
      "Epoch [1/2], Step [1200/1200] \n",
      "   Train: Loss: 1.0246, Accuracy: 66.00%\n",
      "   Test: Accuracy: 64.07%\n",
      "Epoch [2/2], Step [200/1200] \n",
      "   Train: Loss: 0.9545, Accuracy: 62.00%\n",
      "   Test: Accuracy: 66.15%\n",
      "Epoch [2/2], Step [400/1200] \n",
      "   Train: Loss: 0.8797, Accuracy: 66.00%\n",
      "   Test: Accuracy: 67.61%\n",
      "Epoch [2/2], Step [600/1200] \n",
      "   Train: Loss: 0.8688, Accuracy: 60.00%\n",
      "   Test: Accuracy: 69.02%\n",
      "Epoch [2/2], Step [800/1200] \n",
      "   Train: Loss: 0.9513, Accuracy: 66.00%\n",
      "   Test: Accuracy: 70.77%\n",
      "Epoch [2/2], Step [1000/1200] \n",
      "   Train: Loss: 0.8470, Accuracy: 64.00%\n",
      "   Test: Accuracy: 69.79%\n",
      "Epoch [2/2], Step [1200/1200] \n",
      "   Train: Loss: 1.1017, Accuracy: 64.00%\n",
      "   Test: Accuracy: 71.68%\n",
      "Execution time: 414.40317821502686 seconds\n"
     ]
    }
   ],
   "source": [
    "fashion_model = MnistModel()\n",
    "\n",
    "batch_size = 50\n",
    "fashion_train_loader = torch.utils.data.DataLoader(\n",
    "    datasets.FashionMNIST('data', train=True, download=True, transform=transforms.ToTensor()),\n",
    "    batch_size=batch_size, shuffle=True)\n",
    "fashion_test_loader = torch.utils.data.DataLoader(\n",
    "    datasets.FashionMNIST('data', train=False, download=True, transform=transforms.ToTensor()),\n",
    "    batch_size=batch_size, shuffle=True)\n",
    "\n",
    "train_acc, test_acc, risks = do_train_and_test_by_loader(fashion_model, fashion_train_loader, fashion_test_loader)"
   ]
  },
  {
   "cell_type": "code",
   "execution_count": 23,
   "metadata": {
    "colab": {
     "base_uri": "https://localhost:8080/",
     "height": 410
    },
    "id": "e76p6A1KeQmV",
    "outputId": "0012c464-e590-4674-9f14-945e95001262"
   },
   "outputs": [
    {
     "data": {
      "image/png": "[encoded data removed]",
      "text/plain": [
       "<Figure size 400x400 with 1 Axes>"
      ]
     },
     "metadata": {},
     "output_type": "display_data"
    }
   ],
   "source": [
    "plot_acc_and_risks(train_acc, test_acc, risks, fashion_mnist_model_name)"
   ]
  },
  {
   "cell_type": "markdown",
   "metadata": {
    "id": "pkoccuIQSQAp"
   },
   "source": [
    "## Fashion Mnist with saved Mnist parameters"
   ]
  },
  {
   "cell_type": "code",
   "execution_count": 24,
   "metadata": {
    "colab": {
     "base_uri": "https://localhost:8080/"
    },
    "id": "_NeQRWJVSZbJ",
    "outputId": "353448d8-18b8-49ed-ce9e-fd88e113f54b"
   },
   "outputs": [
    {
     "name": "stdout",
     "output_type": "stream",
     "text": [
      "Epoch [1/2], Step [200/1200] \n",
      "   Train: Loss: 1.3273, Accuracy: 52.00%\n",
      "   Test: Accuracy: 54.40%\n",
      "Epoch [1/2], Step [400/1200] \n",
      "   Train: Loss: 1.0031, Accuracy: 72.00%\n",
      "   Test: Accuracy: 63.74%\n",
      "Epoch [1/2], Step [600/1200] \n",
      "   Train: Loss: 0.9893, Accuracy: 58.00%\n",
      "   Test: Accuracy: 67.10%\n",
      "Epoch [1/2], Step [800/1200] \n",
      "   Train: Loss: 0.8905, Accuracy: 64.00%\n",
      "   Test: Accuracy: 69.69%\n",
      "Epoch [1/2], Step [1000/1200] \n",
      "   Train: Loss: 0.5838, Accuracy: 80.00%\n",
      "   Test: Accuracy: 71.05%\n",
      "Epoch [1/2], Step [1200/1200] \n",
      "   Train: Loss: 0.6836, Accuracy: 72.00%\n",
      "   Test: Accuracy: 73.26%\n",
      "Epoch [2/2], Step [200/1200] \n",
      "   Train: Loss: 0.9946, Accuracy: 70.00%\n",
      "   Test: Accuracy: 73.69%\n",
      "Epoch [2/2], Step [400/1200] \n",
      "   Train: Loss: 0.7665, Accuracy: 74.00%\n",
      "   Test: Accuracy: 74.70%\n",
      "Epoch [2/2], Step [600/1200] \n",
      "   Train: Loss: 0.6782, Accuracy: 74.00%\n",
      "   Test: Accuracy: 74.93%\n",
      "Epoch [2/2], Step [800/1200] \n",
      "   Train: Loss: 0.7088, Accuracy: 76.00%\n",
      "   Test: Accuracy: 75.41%\n",
      "Epoch [2/2], Step [1000/1200] \n",
      "   Train: Loss: 0.6152, Accuracy: 76.00%\n",
      "   Test: Accuracy: 75.99%\n",
      "Epoch [2/2], Step [1200/1200] \n",
      "   Train: Loss: 0.4846, Accuracy: 86.00%\n",
      "   Test: Accuracy: 76.71%\n",
      "Execution time: 440.0558087825775 seconds\n"
     ]
    }
   ],
   "source": [
    "continuation_model = MnistModel()\n",
    "continuation_model.load_state_dict(torch.load(MODEL_STORE_PATH + mnist_model_name))\n",
    "\n",
    "\n",
    "train_acc, test_acc, risks = do_train_and_test_by_loader(continuation_model, fashion_train_loader, fashion_test_loader)"
   ]
  },
  {
   "cell_type": "code",
   "execution_count": 25,
   "metadata": {
    "colab": {
     "base_uri": "https://localhost:8080/",
     "height": 410
    },
    "id": "TvxP6b36uHKz",
    "outputId": "06a0692f-9f9b-4c6d-ec42-aafad49f474b"
   },
   "outputs": [
    {
     "data": {
      "image/png": "[encoded data removed]",
      "text/plain": [
       "<Figure size 400x400 with 1 Axes>"
      ]
     },
     "metadata": {},
     "output_type": "display_data"
    }
   ],
   "source": [
    "plot_acc_and_risks(train_acc, test_acc, risks, continuation_fashion_mnist_model_name)"
   ]
  },
  {
   "cell_type": "markdown",
   "metadata": {
    "id": "8QjNLlD4Sf-L"
   },
   "source": [
    "По графикам кажется, что в данном эксперименте обучение модели проходило более плавно"
   ]
  },
  {
   "cell_type": "markdown",
   "metadata": {
    "id": "P9E_B8zDUlZO"
   },
   "source": [
    "## Fashion Mnist with freezed parameters"
   ]
  },
  {
   "cell_type": "code",
   "execution_count": 32,
   "metadata": {
    "colab": {
     "base_uri": "https://localhost:8080/"
    },
    "id": "tdGQCFzPVL4C",
    "outputId": "e51a6791-c807-47da-9b9f-c314e00b4235"
   },
   "outputs": [
    {
     "data": {
      "text/plain": [
       "<All keys matched successfully>"
      ]
     },
     "execution_count": 32,
     "metadata": {},
     "output_type": "execute_result"
    }
   ],
   "source": [
    "freeze_model = MnistModel()\n",
    "freeze_model.load_state_dict(torch.load(MODEL_STORE_PATH + mnist_model_name))"
   ]
  },
  {
   "cell_type": "code",
   "execution_count": 33,
   "metadata": {
    "colab": {
     "base_uri": "https://localhost:8080/"
    },
    "id": "-TI_0AnBZI1d",
    "outputId": "33562fe9-398b-41e6-c486-283ead13f7e5"
   },
   "outputs": [
    {
     "name": "stdout",
     "output_type": "stream",
     "text": [
      "all params:\n",
      "layer1.0.weight\n",
      "layer1.0.bias\n",
      "layer2.0.weight\n",
      "layer2.0.bias\n",
      "fc1.weight\n",
      "fc1.bias\n",
      "fc2.weight\n",
      "fc2.bias\n",
      "\n",
      "frozen:\n",
      "layer1.0.weight\n",
      "layer1.0.bias\n",
      "layer2.0.weight\n",
      "layer2.0.bias\n"
     ]
    }
   ],
   "source": [
    "# freeze convolution layers\n",
    "print('all params:')\n",
    "for name, param in freeze_model.named_parameters():\n",
    "  print(name)\n",
    "print('\\nfrozen:')\n",
    "for name, param in freeze_model.named_parameters():\n",
    "  if param.requires_grad and ('layer1.0' in name or 'layer2.0' in name):\n",
    "      param.requires_grad = False\n",
    "      print(name)"
   ]
  },
  {
   "cell_type": "code",
   "execution_count": 34,
   "metadata": {
    "colab": {
     "base_uri": "https://localhost:8080/"
    },
    "id": "ZpFZGTujbGBW",
    "outputId": "df0ed629-dc88-4364-c3a1-aa65ed35dabf"
   },
   "outputs": [
    {
     "name": "stdout",
     "output_type": "stream",
     "text": [
      "Epoch [1/2], Step [200/1200] \n",
      "   Train: Loss: 1.4890, Accuracy: 54.00%\n",
      "   Test: Accuracy: 52.50%\n",
      "Epoch [1/2], Step [400/1200] \n",
      "   Train: Loss: 1.0489, Accuracy: 68.00%\n",
      "   Test: Accuracy: 61.26%\n",
      "Epoch [1/2], Step [600/1200] \n",
      "   Train: Loss: 1.2248, Accuracy: 52.00%\n",
      "   Test: Accuracy: 65.50%\n",
      "Epoch [1/2], Step [800/1200] \n",
      "   Train: Loss: 0.8959, Accuracy: 62.00%\n",
      "   Test: Accuracy: 67.67%\n",
      "Epoch [1/2], Step [1000/1200] \n",
      "   Train: Loss: 0.9962, Accuracy: 64.00%\n",
      "   Test: Accuracy: 69.59%\n",
      "Epoch [1/2], Step [1200/1200] \n",
      "   Train: Loss: 0.9137, Accuracy: 74.00%\n",
      "   Test: Accuracy: 70.95%\n",
      "Epoch [2/2], Step [200/1200] \n",
      "   Train: Loss: 0.8183, Accuracy: 76.00%\n",
      "   Test: Accuracy: 71.82%\n",
      "Epoch [2/2], Step [400/1200] \n",
      "   Train: Loss: 0.7863, Accuracy: 74.00%\n",
      "   Test: Accuracy: 72.84%\n",
      "Epoch [2/2], Step [600/1200] \n",
      "   Train: Loss: 0.7907, Accuracy: 80.00%\n",
      "   Test: Accuracy: 73.05%\n",
      "Epoch [2/2], Step [800/1200] \n",
      "   Train: Loss: 0.6241, Accuracy: 80.00%\n",
      "   Test: Accuracy: 73.47%\n",
      "Epoch [2/2], Step [1000/1200] \n",
      "   Train: Loss: 0.6528, Accuracy: 84.00%\n",
      "   Test: Accuracy: 74.32%\n",
      "Epoch [2/2], Step [1200/1200] \n",
      "   Train: Loss: 0.6719, Accuracy: 80.00%\n",
      "   Test: Accuracy: 74.22%\n",
      "Execution time: 285.9083592891693 seconds\n"
     ]
    }
   ],
   "source": [
    "train_acc, test_acc, risks = do_train_and_test_by_loader(freeze_model, fashion_train_loader, fashion_test_loader)"
   ]
  },
  {
   "cell_type": "code",
   "execution_count": 35,
   "metadata": {
    "colab": {
     "base_uri": "https://localhost:8080/",
     "height": 410
    },
    "id": "lQRR52nPX9N3",
    "outputId": "72796b19-8105-491d-f83a-f7258658094f"
   },
   "outputs": [
    {
     "data": {
      "image/png": "[encoded data removed]",
      "text/plain": [
       "<Figure size 400x400 with 1 Axes>"
      ]
     },
     "metadata": {},
     "output_type": "display_data"
    }
   ],
   "source": [
    "plot_acc_and_risks(train_acc, test_acc, risks, freeze_fashion_mnist_model_name)"
   ]
  },
  {
   "cell_type": "markdown",
   "metadata": {
    "id": "s6nTRAA7UrUa"
   },
   "source": [
    "## Fashion Mnist: unfreeze and retrain parameters "
   ]
  },
  {
   "cell_type": "code",
   "execution_count": 36,
   "metadata": {
    "colab": {
     "base_uri": "https://localhost:8080/"
    },
    "id": "3ND0aI1AVMY1",
    "outputId": "7f25a65e-4999-4181-d431-cb0108080d3a"
   },
   "outputs": [
    {
     "name": "stdout",
     "output_type": "stream",
     "text": [
      "all params:\n",
      "layer1.0.weight\n",
      "layer1.0.bias\n",
      "layer2.0.weight\n",
      "layer2.0.bias\n",
      "fc1.weight\n",
      "fc1.bias\n",
      "fc2.weight\n",
      "fc2.bias\n",
      "\n",
      "frozen:\n",
      "layer1.0.weight\n",
      "layer1.0.bias\n",
      "layer2.0.weight\n",
      "layer2.0.bias\n",
      "Epoch [1/2], Step [200/1200] \n",
      "   Train: Loss: 1.5055, Accuracy: 52.00%\n",
      "   Test: Accuracy: 52.23%\n",
      "Epoch [1/2], Step [400/1200] \n",
      "   Train: Loss: 1.2901, Accuracy: 60.00%\n",
      "   Test: Accuracy: 61.75%\n",
      "Epoch [1/2], Step [600/1200] \n",
      "   Train: Loss: 0.9800, Accuracy: 66.00%\n",
      "   Test: Accuracy: 66.40%\n",
      "Epoch [1/2], Step [800/1200] \n",
      "   Train: Loss: 1.0885, Accuracy: 66.00%\n",
      "   Test: Accuracy: 68.03%\n",
      "Epoch [1/2], Step [1000/1200] \n",
      "   Train: Loss: 0.9533, Accuracy: 60.00%\n",
      "   Test: Accuracy: 69.76%\n",
      "Epoch [1/2], Step [1200/1200] \n",
      "   Train: Loss: 0.9965, Accuracy: 60.00%\n",
      "   Test: Accuracy: 71.47%\n",
      "Epoch [2/2], Step [200/1200] \n",
      "   Train: Loss: 0.7558, Accuracy: 72.00%\n",
      "   Test: Accuracy: 71.73%\n",
      "Epoch [2/2], Step [400/1200] \n",
      "   Train: Loss: 0.8976, Accuracy: 70.00%\n",
      "   Test: Accuracy: 73.08%\n",
      "Epoch [2/2], Step [600/1200] \n",
      "   Train: Loss: 0.9173, Accuracy: 62.00%\n",
      "   Test: Accuracy: 73.21%\n",
      "Epoch [2/2], Step [800/1200] \n",
      "   Train: Loss: 0.6816, Accuracy: 80.00%\n",
      "   Test: Accuracy: 73.70%\n",
      "Epoch [2/2], Step [1000/1200] \n",
      "   Train: Loss: 0.5576, Accuracy: 80.00%\n",
      "   Test: Accuracy: 74.16%\n",
      "Epoch [2/2], Step [1200/1200] \n",
      "   Train: Loss: 0.8463, Accuracy: 60.00%\n",
      "   Test: Accuracy: 74.80%\n",
      "Execution time: 279.26225066185 seconds\n",
      "\n",
      "unfrozen:\n",
      "Epoch [1/2], Step [200/1200] \n",
      "   Train: Loss: 0.7507, Accuracy: 80.00%\n",
      "   Test: Accuracy: 74.77%\n",
      "Epoch [1/2], Step [400/1200] \n",
      "   Train: Loss: 0.6020, Accuracy: 90.00%\n",
      "   Test: Accuracy: 75.57%\n",
      "Epoch [1/2], Step [600/1200] \n",
      "   Train: Loss: 0.6267, Accuracy: 78.00%\n",
      "   Test: Accuracy: 75.55%\n",
      "Epoch [1/2], Step [800/1200] \n",
      "   Train: Loss: 0.6382, Accuracy: 76.00%\n",
      "   Test: Accuracy: 75.39%\n",
      "Epoch [1/2], Step [1000/1200] \n",
      "   Train: Loss: 0.6292, Accuracy: 80.00%\n",
      "   Test: Accuracy: 75.66%\n",
      "Epoch [1/2], Step [1200/1200] \n",
      "   Train: Loss: 0.6022, Accuracy: 82.00%\n",
      "   Test: Accuracy: 76.32%\n",
      "Epoch [2/2], Step [200/1200] \n",
      "   Train: Loss: 0.5916, Accuracy: 84.00%\n",
      "   Test: Accuracy: 76.55%\n",
      "Epoch [2/2], Step [400/1200] \n",
      "   Train: Loss: 0.7395, Accuracy: 72.00%\n",
      "   Test: Accuracy: 76.57%\n",
      "Epoch [2/2], Step [600/1200] \n",
      "   Train: Loss: 0.5524, Accuracy: 82.00%\n",
      "   Test: Accuracy: 76.54%\n",
      "Epoch [2/2], Step [800/1200] \n",
      "   Train: Loss: 0.6844, Accuracy: 80.00%\n",
      "   Test: Accuracy: 76.78%\n",
      "Epoch [2/2], Step [1000/1200] \n",
      "   Train: Loss: 0.8308, Accuracy: 64.00%\n",
      "   Test: Accuracy: 77.31%\n",
      "Epoch [2/2], Step [1200/1200] \n",
      "   Train: Loss: 0.6327, Accuracy: 74.00%\n",
      "   Test: Accuracy: 77.04%\n",
      "Execution time: 276.1112732887268 seconds\n"
     ]
    }
   ],
   "source": [
    "freeze_model = MnistModel()\n",
    "freeze_model.load_state_dict(torch.load(MODEL_STORE_PATH + mnist_model_name))\n",
    "\n",
    "# freeze convolution layers\n",
    "print('all params:')\n",
    "for name, param in freeze_model.named_parameters():\n",
    "  print(name)\n",
    "print('\\nfrozen:')\n",
    "for name, param in freeze_model.named_parameters():\n",
    "  if param.requires_grad and ('layer1.0' in name or 'layer2.0' in name):\n",
    "      param.requires_grad = False\n",
    "      print(name)\n",
    "\n",
    "# do train \n",
    "train_acc1, test_acc1, risks1 = do_train_and_test_by_loader(freeze_model, fashion_train_loader, fashion_test_loader, num_epochs=2)\n",
    "\n",
    "# unfreeze convolution layers\n",
    "print('\\nunfrozen:')\n",
    "for name, param in freeze_model.named_parameters():\n",
    "  if param.requires_grad and ('layer1.0' in name or 'layer2.0' in name):\n",
    "      param.requires_grad = True\n",
    "      print(name)\n",
    "\n",
    "# do train\n",
    "train_acc, test_acc, risks = do_train_and_test_by_loader(freeze_model, fashion_train_loader, fashion_test_loader, num_epochs=2)"
   ]
  },
  {
   "cell_type": "code",
   "execution_count": 37,
   "metadata": {
    "colab": {
     "base_uri": "https://localhost:8080/",
     "height": 410
    },
    "id": "-MnhB4IeYvSz",
    "outputId": "3e9e88ac-a0d4-4408-c1ab-470404e46ed7"
   },
   "outputs": [
    {
     "data": {
      "image/png": "[encoded data removed]",
      "text/plain": [
       "<Figure size 400x400 with 1 Axes>"
      ]
     },
     "metadata": {},
     "output_type": "display_data"
    }
   ],
   "source": [
    "plot_acc_and_risks(train_acc1 + train_acc, test_acc1 + test_acc, risks1 + risks, unfreeze_fashion_mnist_model_name)"
   ]
  }
 ],
 "metadata": {
  "colab": {
   "provenance": []
  },
  "gpuClass": "standard",
  "kernelspec": {
   "display_name": "Python 3 (ipykernel)",
   "language": "python",
   "name": "python3"
  },
  "language_info": {
   "codemirror_mode": {
    "name": "ipython",
    "version": 3
   },
   "file_extension": ".py",
   "mimetype": "text/x-python",
   "name": "python",
   "nbconvert_exporter": "python",
   "pygments_lexer": "ipython3",
   "version": "3.8.9"
  }
 },
 "nbformat": 4,
 "nbformat_minor": 1
}
