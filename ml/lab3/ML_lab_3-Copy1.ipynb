{
 "cells": [
  {
   "cell_type": "markdown",
   "metadata": {
    "id": "qSFPOWRc4oUg"
   },
   "source": [
    "## Подготовка данных\n"
   ]
  },
  {
   "cell_type": "markdown",
   "metadata": {
    "id": "Ouu7OCwY8jZx"
   },
   "source": [
    "Выбранный текст - Человек, который принял жену за шляпу"
   ]
  },
  {
   "cell_type": "code",
   "execution_count": 96,
   "metadata": {
    "id": "3wIk-ZuVB8wb"
   },
   "outputs": [],
   "source": [
    "#constants \n",
    "file_name = 'Человек,который_принял_жену_за_шляпу.pdf' # реальный текст романа с 14 по 112 страницы \n",
    "sentence_len = 50"
   ]
  },
  {
   "cell_type": "code",
   "execution_count": 97,
   "metadata": {
    "colab": {
     "base_uri": "https://localhost:8080/"
    },
    "id": "CvhBHbdn4gQU",
    "outputId": "928edf99-81fa-451c-e5ec-2aa9fe9dbf2f",
    "scrolled": true
   },
   "outputs": [
    {
     "name": "stdout",
     "output_type": "stream",
     "text": [
      "Defaulting to user installation because normal site-packages is not writeable\n",
      "Requirement already satisfied: pdfquery in /Users/esoboleva/Library/Python/3.8/lib/python/site-packages (0.4.3)\n",
      "Requirement already satisfied: pdfminer.six in /Users/esoboleva/Library/Python/3.8/lib/python/site-packages (from pdfquery) (20221105)\n",
      "Requirement already satisfied: pyquery>=1.2.2 in /Users/esoboleva/Library/Python/3.8/lib/python/site-packages (from pdfquery) (2.0.0)\n",
      "Requirement already satisfied: cssselect>=0.7.1 in /Users/esoboleva/Library/Python/3.8/lib/python/site-packages (from pdfquery) (1.2.0)\n",
      "Requirement already satisfied: lxml>=3.0 in /Users/esoboleva/Library/Python/3.8/lib/python/site-packages (from pdfquery) (4.9.2)\n",
      "Requirement already satisfied: chardet in /Users/esoboleva/Library/Python/3.8/lib/python/site-packages (from pdfquery) (5.1.0)\n",
      "Requirement already satisfied: roman>=1.4.0 in /Users/esoboleva/Library/Python/3.8/lib/python/site-packages (from pdfquery) (4.0)\n",
      "Requirement already satisfied: charset-normalizer>=2.0.0 in /Users/esoboleva/Library/Python/3.8/lib/python/site-packages (from pdfminer.six->pdfquery) (3.1.0)\n",
      "Requirement already satisfied: cryptography>=36.0.0 in /Users/esoboleva/Library/Python/3.8/lib/python/site-packages (from pdfminer.six->pdfquery) (40.0.2)\n",
      "Requirement already satisfied: cffi>=1.12 in /Users/esoboleva/Library/Python/3.8/lib/python/site-packages (from cryptography>=36.0.0->pdfminer.six->pdfquery) (1.15.1)\n",
      "Requirement already satisfied: pycparser in /Users/esoboleva/Library/Python/3.8/lib/python/site-packages (from cffi>=1.12->cryptography>=36.0.0->pdfminer.six->pdfquery) (2.21)\n",
      "\n",
      "\u001b[1m[\u001b[0m\u001b[34;49mnotice\u001b[0m\u001b[1;39;49m]\u001b[0m\u001b[39;49m A new release of pip is available: \u001b[0m\u001b[31;49m23.0.1\u001b[0m\u001b[39;49m -> \u001b[0m\u001b[32;49m23.1.1\u001b[0m\n",
      "\u001b[1m[\u001b[0m\u001b[34;49mnotice\u001b[0m\u001b[1;39;49m]\u001b[0m\u001b[39;49m To update, run: \u001b[0m\u001b[32;49m/Library/Developer/CommandLineTools/usr/bin/python3 -m pip install --upgrade pip\u001b[0m\n",
      "Defaulting to user installation because normal site-packages is not writeable\n",
      "Requirement already satisfied: pandas in /Library/Python/3.8/site-packages (1.5.3)\n",
      "Requirement already satisfied: python-dateutil>=2.8.1 in /Library/Python/3.8/site-packages (from pandas) (2.8.2)\n",
      "Requirement already satisfied: numpy>=1.20.3 in /Users/esoboleva/Library/Python/3.8/lib/python/site-packages (from pandas) (1.24.3)\n",
      "Requirement already satisfied: pytz>=2020.1 in /Library/Python/3.8/site-packages (from pandas) (2022.7.1)\n",
      "Requirement already satisfied: six>=1.5 in /Library/Developer/CommandLineTools/Library/Frameworks/Python3.framework/Versions/3.8/lib/python3.8/site-packages (from python-dateutil>=2.8.1->pandas) (1.15.0)\n",
      "\n",
      "\u001b[1m[\u001b[0m\u001b[34;49mnotice\u001b[0m\u001b[1;39;49m]\u001b[0m\u001b[39;49m A new release of pip is available: \u001b[0m\u001b[31;49m23.0.1\u001b[0m\u001b[39;49m -> \u001b[0m\u001b[32;49m23.1.1\u001b[0m\n",
      "\u001b[1m[\u001b[0m\u001b[34;49mnotice\u001b[0m\u001b[1;39;49m]\u001b[0m\u001b[39;49m To update, run: \u001b[0m\u001b[32;49m/Library/Developer/CommandLineTools/usr/bin/python3 -m pip install --upgrade pip\u001b[0m\n",
      "Requirement already satisfied: nltk in /Users/esoboleva/Library/Python/3.8/lib/python/site-packages (3.8.1)\n",
      "Requirement already satisfied: tqdm in /Users/esoboleva/Library/Python/3.8/lib/python/site-packages (from nltk) (4.65.0)\n",
      "Requirement already satisfied: joblib in /Library/Python/3.8/site-packages (from nltk) (1.2.0)\n",
      "Requirement already satisfied: click in /Users/esoboleva/Library/Python/3.8/lib/python/site-packages (from nltk) (8.1.3)\n",
      "Requirement already satisfied: regex>=2021.8.3 in /Users/esoboleva/Library/Python/3.8/lib/python/site-packages (from nltk) (2023.3.23)\n",
      "\n",
      "\u001b[1m[\u001b[0m\u001b[34;49mnotice\u001b[0m\u001b[1;39;49m]\u001b[0m\u001b[39;49m A new release of pip is available: \u001b[0m\u001b[31;49m23.0.1\u001b[0m\u001b[39;49m -> \u001b[0m\u001b[32;49m23.1.1\u001b[0m\n",
      "\u001b[1m[\u001b[0m\u001b[34;49mnotice\u001b[0m\u001b[1;39;49m]\u001b[0m\u001b[39;49m To update, run: \u001b[0m\u001b[32;49m/Library/Developer/CommandLineTools/usr/bin/python3 -m pip install --upgrade pip\u001b[0m\n",
      "Defaulting to user installation because normal site-packages is not writeable\n",
      "Requirement already satisfied: numpy in /Users/esoboleva/Library/Python/3.8/lib/python/site-packages (1.24.3)\n",
      "\n",
      "\u001b[1m[\u001b[0m\u001b[34;49mnotice\u001b[0m\u001b[1;39;49m]\u001b[0m\u001b[39;49m A new release of pip is available: \u001b[0m\u001b[31;49m23.0.1\u001b[0m\u001b[39;49m -> \u001b[0m\u001b[32;49m23.1.1\u001b[0m\n",
      "\u001b[1m[\u001b[0m\u001b[34;49mnotice\u001b[0m\u001b[1;39;49m]\u001b[0m\u001b[39;49m To update, run: \u001b[0m\u001b[32;49m/Library/Developer/CommandLineTools/usr/bin/python3 -m pip install --upgrade pip\u001b[0m\n",
      "Defaulting to user installation because normal site-packages is not writeable\n",
      "Requirement already satisfied: torch in /Users/esoboleva/Library/Python/3.8/lib/python/site-packages (2.0.0)\n",
      "Requirement already satisfied: jinja2 in /Users/esoboleva/Library/Python/3.8/lib/python/site-packages (from torch) (3.1.2)\n",
      "Requirement already satisfied: networkx in /Users/esoboleva/Library/Python/3.8/lib/python/site-packages (from torch) (3.1)\n",
      "Requirement already satisfied: filelock in /Users/esoboleva/Library/Python/3.8/lib/python/site-packages (from torch) (3.12.0)\n",
      "Requirement already satisfied: sympy in /Users/esoboleva/Library/Python/3.8/lib/python/site-packages (from torch) (1.11.1)\n",
      "Requirement already satisfied: typing-extensions in /Users/esoboleva/Library/Python/3.8/lib/python/site-packages (from torch) (4.5.0)\n",
      "Requirement already satisfied: MarkupSafe>=2.0 in /Users/esoboleva/Library/Python/3.8/lib/python/site-packages (from jinja2->torch) (2.1.2)\n",
      "Requirement already satisfied: mpmath>=0.19 in /Users/esoboleva/Library/Python/3.8/lib/python/site-packages (from sympy->torch) (1.3.0)\n",
      "\n",
      "\u001b[1m[\u001b[0m\u001b[34;49mnotice\u001b[0m\u001b[1;39;49m]\u001b[0m\u001b[39;49m A new release of pip is available: \u001b[0m\u001b[31;49m23.0.1\u001b[0m\u001b[39;49m -> \u001b[0m\u001b[32;49m23.1.1\u001b[0m\n",
      "\u001b[1m[\u001b[0m\u001b[34;49mnotice\u001b[0m\u001b[1;39;49m]\u001b[0m\u001b[39;49m To update, run: \u001b[0m\u001b[32;49m/Library/Developer/CommandLineTools/usr/bin/python3 -m pip install --upgrade pip\u001b[0m\n"
     ]
    }
   ],
   "source": [
    "! pip install pdfquery\n",
    "! pip install pandas\n",
    "! pip install --user -U nltk\n",
    "\n",
    "import sys\n",
    "!{sys.executable} -m pip install numpy\n",
    "\n",
    "! pip install torch"
   ]
  },
  {
   "cell_type": "code",
   "execution_count": 98,
   "metadata": {},
   "outputs": [],
   "source": [
    "#imports \n",
    "from pdfquery import PDFQuery\n",
    "\n",
    "import numpy as np\n",
    "import torch\n",
    "import torch.nn as nn\n",
    "import torch.optim as optim\n",
    "import nltk\n",
    "\n",
    "from nltk.tokenize import sent_tokenize\n",
    "from nltk.tokenize import word_tokenize\n",
    "import string\n",
    "import re\n",
    "\n",
    "from torch.utils.data import Dataset, DataLoader, TensorDataset\n",
    "from tqdm import tqdm"
   ]
  },
  {
   "cell_type": "code",
   "execution_count": 99,
   "metadata": {
    "id": "1eSu568VFLYF"
   },
   "outputs": [],
   "source": [
    "pdf = PDFQuery(file_name)\n",
    "pdf.load(*range(13, 50)) #TODO(\"увеличить?\")\n",
    "\n",
    "text_elements = pdf.pq('LTTextLineHorizontal')"
   ]
  },
  {
   "cell_type": "code",
   "execution_count": 100,
   "metadata": {
    "colab": {
     "base_uri": "https://localhost:8080/"
    },
    "id": "yVs0MDc9XEkM",
    "outputId": "c4b588ed-d3e9-46e2-9b79-8ef464d608d0"
   },
   "outputs": [],
   "source": [
    "text = \"\".join([t.text for t in text_elements]).replace('\\n', '')"
   ]
  },
  {
   "cell_type": "code",
   "execution_count": 101,
   "metadata": {
    "colab": {
     "base_uri": "https://localhost:8080/"
    },
    "id": "_ZsWeHIQ-W_P",
    "outputId": "e75e5e92-6996-4e96-b384-f2c04d718fb0"
   },
   "outputs": [
    {
     "name": "stderr",
     "output_type": "stream",
     "text": [
      "[nltk_data] Downloading package punkt to /Users/esoboleva/nltk_data...\n",
      "[nltk_data]   Package punkt is already up-to-date!\n"
     ]
    },
    {
     "data": {
      "text/plain": [
       "True"
      ]
     },
     "execution_count": 101,
     "metadata": {},
     "output_type": "execute_result"
    }
   ],
   "source": [
    "nltk.download('punkt')"
   ]
  },
  {
   "cell_type": "code",
   "execution_count": 102,
   "metadata": {
    "id": "RxCpOdODax5n"
   },
   "outputs": [],
   "source": [
    "def tokenize_ru(file_text):\n",
    "    # firstly let's apply nltk tokenization\n",
    "    tokens = word_tokenize(file_text)\n",
    "\n",
    "    # let's delete punctuation symbols\n",
    "    tokens = [i for i in tokens if (i not in string.punctuation)]\n",
    "\n",
    "    # deleting other symbols\n",
    "    punct = ['—', ',', '.', '...']\n",
    "    tokens = [i for i in tokens if (i not in punct)]\n",
    "\n",
    "    # cleaning words\n",
    "    tokens = [re.sub(\"[a-z]\",\"\", re.sub(\"[0-9]\",\"\",\n",
    "              i.replace(\"«\", \"\")\n",
    "              .replace(\"»\", \"\")\n",
    "              .replace(\".\", \"\")\n",
    "              .replace(\"-\", \"\")\n",
    "              .replace('—', \"\")\n",
    "              .replace(',', \"\")\n",
    "              .replace('`', \"\")\n",
    "                                        \n",
    "              .lower()))\n",
    "              for i in tokens]\n",
    "    \n",
    "\n",
    "    return tokens"
   ]
  },
  {
   "cell_type": "code",
   "execution_count": 103,
   "metadata": {
    "id": "kHN6VvpEax5o"
   },
   "outputs": [],
   "source": [
    "sentences = [tokenize_ru(sent) for sent in sent_tokenize(text, 'russian')]"
   ]
  },
  {
   "cell_type": "code",
   "execution_count": 104,
   "metadata": {
    "colab": {
     "base_uri": "https://localhost:8080/"
    },
    "id": "Oah7wL8max5q",
    "outputId": "d5082a45-23a4-44d2-f987-4c801654b81f"
   },
   "outputs": [
    {
     "name": "stdout",
     "output_type": "stream",
     "text": [
      "['\\n', ' ', \"'\", 'а', 'б', 'в', 'г', 'д', 'е', 'ж', 'з', 'и', 'й', 'к', 'л', 'м', 'н', 'о', 'п', 'р', 'с', 'т', 'у', 'ф', 'х', 'ц', 'ч', 'ш', 'щ', 'ъ', 'ы', 'ь', 'э', 'ю', 'я']\n"
     ]
    }
   ],
   "source": [
    "alphabet = {'\\n'}\n",
    "\n",
    "loaded_text_path = 'text.txt'\n",
    "text_file = open(loaded_text_path, \"w\")\n",
    "\n",
    "for s in sentences:\n",
    "    joined_s = \" \".join(s)\n",
    "    if len(joined_s) > sentence_len:\n",
    "        text_file.write(joined_s)\n",
    "        text_file.write('\\n')\n",
    "        # getting alphabet\n",
    "        for c in joined_s:\n",
    "            alphabet.add(c)\n",
    "text_file.close()\n",
    "alphabet = sorted(alphabet)\n",
    "print(alphabet)\n",
    "n_vocab = len(alphabet)"
   ]
  },
  {
   "cell_type": "markdown",
   "metadata": {
    "id": "wWxqCwovax5r"
   },
   "source": [
    "остались только кириллица и пробел - ура\n",
    "\n",
    "сделаем one-hot encoding"
   ]
  },
  {
   "cell_type": "code",
   "execution_count": 105,
   "metadata": {
    "id": "zBzT41Mjax5r"
   },
   "outputs": [
    {
     "name": "stdout",
     "output_type": "stream",
     "text": [
      "Symbols count:  158422\n",
      "Sentences count:  1204\n"
     ]
    }
   ],
   "source": [
    "text = open(\"text.txt\").read()\n",
    "sentences = open(\"text.txt\").readlines()\n",
    "print('Symbols count: ', len(text))\n",
    "print('Sentences count: ', len(sentences))"
   ]
  },
  {
   "cell_type": "code",
   "execution_count": 106,
   "metadata": {
    "id": "qIk9X-wNax5s"
   },
   "outputs": [
    {
     "name": "stderr",
     "output_type": "stream",
     "text": [
      "Encode sentences: 100%|███████████████████| 1204/1204 [00:00<00:00, 3533.07it/s]\n",
      "Cut sentences: 100%|█████████████████████| 1204/1204 [00:00<00:00, 22809.44it/s]\n"
     ]
    },
    {
     "name": "stdout",
     "output_type": "stream",
     "text": [
      "Shapes:  (98222, 50, 35)   (98222, 35)\n"
     ]
    }
   ],
   "source": [
    "def encode_symbol(symbol: str, encoder):\n",
    "    encoded_symbol = [0] * len(encoder)\n",
    "    encoded_symbol[encoder[symbol]] = 1\n",
    "    return encoded_symbol\n",
    "\n",
    "\n",
    "def encode_string(string: str, encoder):\n",
    "    encoded_string = []\n",
    "    for symbol in string:\n",
    "        encoded_string.append(encode_symbol(symbol, encoder))\n",
    "    return encoded_string\n",
    "\n",
    "\n",
    "def encode_data(data):\n",
    "    symbols = list(set([symbol for string in data for symbol in string]))\n",
    "    count_symbols = len(symbols)\n",
    "    encoder = dict(zip(symbols, range(count_symbols)))\n",
    "    encoded_data = []\n",
    "    for string in tqdm(data, desc=\"Encode sentences\"):\n",
    "        encoded_data.append(encode_string(string, encoder))\n",
    "    return encoded_data, encoder, {v: k for k, v in encoder.items()}\n",
    "\n",
    "encoded_sentences, encoder_map, decoder_map = encode_data(sentences)\n",
    "\n",
    "def get_data(sentences, length=sentence_len):\n",
    "    xs = []\n",
    "    ys = []\n",
    "    for sentence in tqdm(sentences, desc=\"Cut sentences\"):\n",
    "        if len(sentence) <= length:\n",
    "            continue\n",
    "        for i in range(0, len(sentence) - length):\n",
    "            x = sentence[i:i + length]\n",
    "            y = sentence[i + length]\n",
    "            xs.append(x)\n",
    "            ys.append(y)\n",
    "    return np.array(xs), np.array(ys)\n",
    "\n",
    "data_x, data_y = get_data(encoded_sentences)\n",
    "print(\"Shapes: \", data_x.shape, \" \", data_y.shape)\n",
    "\n",
    "X = torch.tensor(data_x, dtype=torch.float32)\n",
    "y = torch.tensor(data_y, dtype=torch.float32)"
   ]
  },
  {
   "cell_type": "code",
   "execution_count": null,
   "metadata": {
    "id": "FnZiWiyqax5t"
   },
   "outputs": [],
   "source": []
  },
  {
   "cell_type": "markdown",
   "metadata": {
    "id": "oAGY8ezK4sCU"
   },
   "source": [
    "## LSTM"
   ]
  },
  {
   "cell_type": "code",
   "execution_count": 107,
   "metadata": {
    "id": "4RvEwPWZax5u"
   },
   "outputs": [],
   "source": [
    "class RNNModel(nn.Module):\n",
    "    def __init__(self):\n",
    "        super().__init__()\n",
    "        self.lstm = nn.LSTM(input_size=n_vocab, hidden_size=256, num_layers=3, batch_first=True)\n",
    "        self.dropout = nn.Dropout(0.5)\n",
    "        self.linear = nn.Linear(256, n_vocab)\n",
    "    \n",
    "    def forward(self, x):\n",
    "        x, _ = self.lstm(x)\n",
    "        # take only the last output\n",
    "        x = x[:, -1, :]\n",
    "        # produce output\n",
    "        x = self.linear(x)\n",
    "        return x"
   ]
  },
  {
   "cell_type": "code",
   "execution_count": 108,
   "metadata": {},
   "outputs": [
    {
     "name": "stdout",
     "output_type": "stream",
     "text": [
      "Epoch 0: Cross-entropy: 14.2383\n",
      "Epoch 1: Cross-entropy: 12.0748\n",
      "Epoch 2: Cross-entropy: 10.4981\n",
      "Epoch 3: Cross-entropy: 9.4875\n",
      "Epoch 4: Cross-entropy: 8.7264\n",
      "Epoch 5: Cross-entropy: 8.1136\n",
      "Epoch 6: Cross-entropy: 7.6004\n",
      "Epoch 7: Cross-entropy: 7.1199\n",
      "Epoch 8: Cross-entropy: 6.5495\n",
      "Epoch 9: Cross-entropy: 6.1052\n",
      "Epoch 10: Cross-entropy: 5.6048\n",
      "Epoch 11: Cross-entropy: 5.1701\n",
      "Epoch 12: Cross-entropy: 4.6408\n",
      "Epoch 13: Cross-entropy: 4.2214\n",
      "Epoch 14: Cross-entropy: 3.7302\n",
      "Epoch 15: Cross-entropy: 3.3445\n",
      "Epoch 16: Cross-entropy: 2.9119\n",
      "Epoch 17: Cross-entropy: 2.5427\n",
      "Epoch 18: Cross-entropy: 2.2303\n",
      "Epoch 19: Cross-entropy: 1.9532\n",
      "Epoch 20: Cross-entropy: 1.6983\n",
      "Epoch 21: Cross-entropy: 1.4667\n",
      "Epoch 22: Cross-entropy: 1.3687\n",
      "Epoch 23: Cross-entropy: 1.1515\n",
      "Epoch 24: Cross-entropy: 1.1068\n",
      "Epoch 25: Cross-entropy: 1.1054\n",
      "Epoch 26: Cross-entropy: 0.9395\n",
      "Epoch 27: Cross-entropy: 0.9158\n",
      "Epoch 28: Cross-entropy: 0.8161\n",
      "Epoch 29: Cross-entropy: 0.8358\n"
     ]
    }
   ],
   "source": [
    "n_epochs = 30\n",
    "batch_size = 128\n",
    "model = RNNModel()\n",
    "\n",
    "optimizer = optim.Adam(model.parameters(), lr=0.001)\n",
    "loss_fn = nn.CrossEntropyLoss()\n",
    "loader = DataLoader(TensorDataset(X, y), shuffle=True, batch_size=batch_size)\n",
    "\n",
    "best_model = None\n",
    "best_loss = np.inf\n",
    "for epoch in range(n_epochs):\n",
    "    model.train()\n",
    "    for X_batch, y_batch in loader:\n",
    "        y_pred = model(X_batch)\n",
    "        loss = loss_fn(y_pred, y_batch)\n",
    "        optimizer.zero_grad()\n",
    "        loss.backward()\n",
    "        optimizer.step()\n",
    "    # Validation\n",
    "    model.eval()\n",
    "    loss = 0\n",
    "    with torch.no_grad():\n",
    "        for X_batch, y_batch in loader:\n",
    "            y_pred = model(X_batch)\n",
    "            loss += loss_fn(y_pred, y_batch)\n",
    "        if loss < best_loss:\n",
    "            best_loss = loss\n",
    "            best_model = model.state_dict()\n",
    "        print(\"Epoch %d: Cross-entropy: %.4f\" % (epoch, loss / batch_size))"
   ]
  },
  {
   "cell_type": "code",
   "execution_count": null,
   "metadata": {},
   "outputs": [],
   "source": []
  },
  {
   "cell_type": "code",
   "execution_count": 113,
   "metadata": {},
   "outputs": [],
   "source": [
    "torch.save([best_model, char_to_int], \"model.pth\")"
   ]
  },
  {
   "cell_type": "code",
   "execution_count": 114,
   "metadata": {},
   "outputs": [],
   "source": [
    "file = open('text.txt', 'r')\n",
    "lines = file.readlines()"
   ]
  },
  {
   "cell_type": "code",
   "execution_count": null,
   "metadata": {},
   "outputs": [],
   "source": [
    "prompt_len = 15\n",
    "sentence = np.random.randint(len(lines))\n",
    "prompt = lines[sentence][0:prompt_len]"
   ]
  },
  {
   "cell_type": "code",
   "execution_count": null,
   "metadata": {},
   "outputs": [],
   "source": [
    "pattern = [encoder_map[c] for c in prompt]\n",
    "\n",
    "model.eval()\n",
    "print(\"Real sentence:\\n\", lines[sentence])\n",
    "print('Prompt: \"%s\"' % prompt)\n",
    "print(prompt, end=\"\")\n",
    "with torch.no_grad():\n",
    "    for i in range(500):\n",
    "        # format input array of int into PyTorch tensor\n",
    "#         x = np.reshape(pattern, (1, len(pattern), 1)) / float(n_vocab)\n",
    "        x = torch.tensor(X, dtype=torch.float32)\n",
    "        # generate logits as output from the model\n",
    "        prediction = model(prompt)\n",
    "        # convert logits into one character\n",
    "        index = int(prediction.argmax())\n",
    "        result = decoder_map[index]\n",
    "        print(result, end=\"\")\n",
    "        # append the new character into the prompt for the next iteration\n",
    "        pattern.append(index)\n",
    "        pattern = pattern[1:]\n",
    "print()\n",
    "print(\"Done.\")"
   ]
  },
  {
   "cell_type": "markdown",
   "metadata": {
    "id": "pgm1vifB4vnp"
   },
   "source": [
    "## Марковская цепь\n"
   ]
  },
  {
   "cell_type": "code",
   "execution_count": null,
   "metadata": {
    "id": "WcGpS4nL46-W"
   },
   "outputs": [],
   "source": [
    "n_chars_to_consider = 10\n",
    "transitions = dict()"
   ]
  },
  {
   "cell_type": "code",
   "execution_count": null,
   "metadata": {
    "id": "-KYqL3Sjax5v"
   },
   "outputs": [],
   "source": [
    "for s in lines:\n",
    "    prev = None\n",
    "    i = 0\n",
    "    while i < len(s):\n",
    "        if prev == None:\n",
    "            prev = s[:n_chars_to_consider]\n",
    "            i += n_chars_to_consider\n",
    "            continue\n",
    "        new_state = prev[1:] + s[i]\n",
    "        key = prev + '->' + new_state\n",
    "        if not (key in transitions):\n",
    "            transitions[key] = 1\n",
    "        else:\n",
    "            transitions[key] += 1\n",
    "        prev = new_state\n",
    "        i+=1\n",
    "\n",
    "# нормируем\n",
    "summ = 0\n",
    "for t in transitions.values():\n",
    "    summ += t\n",
    "\n",
    "transitions = {k: v / summ for k, v in transitions.items()}\n",
    "print(\"Transitions count: \", len(transitions.items()))"
   ]
  },
  {
   "cell_type": "code",
   "execution_count": null,
   "metadata": {},
   "outputs": [],
   "source": [
    "prompt_len = 11 # > n_chars_to_consider\n",
    "\n",
    "sentence = np.random.randint(len(lines))\n",
    "prompt = lines[sentence][0:prompt_len]"
   ]
  },
  {
   "cell_type": "code",
   "execution_count": null,
   "metadata": {},
   "outputs": [],
   "source": [
    "# предсказание\n",
    "import operator\n",
    "\n",
    "def our_transition(pair, suf):\n",
    "    k, v = pair \n",
    "    return k.startswith(suf)\n",
    "        \n",
    "\n",
    "def predict(cur_line):\n",
    "    suf = cur_line[len(cur_line) - n_chars_to_consider:] \n",
    "    trs = dict()\n",
    "    for t in transitions.items():\n",
    "        k, v = t\n",
    "        if our_transition(t, suf):\n",
    "            trs[k] = v\n",
    "    if len(trs) == 0:\n",
    "        return None, True\n",
    "    \n",
    "    max_val = max(trs.values())\n",
    "    max_prob_key = max(trs, key = trs.get)\n",
    "    \n",
    "    next_char = max_prob_key[len(max_prob_key) - 1] #last \n",
    "    return cur_line + next_char, False\n",
    "\n",
    "print(\"Real sentence:\\n\", lines[sentence])\n",
    "print('Prompt: \"%s\"' % prompt)\n",
    "cur = prompt\n",
    "for i in range(100):\n",
    "    cur, ended = predict(cur)\n",
    "    if ended:\n",
    "        print('Достигли перехода в конец строки, всё')\n",
    "        break\n",
    "    print(cur)\n"
   ]
  }
 ],
 "metadata": {
  "colab": {
   "collapsed_sections": [
    "oAGY8ezK4sCU",
    "pgm1vifB4vnp"
   ],
   "provenance": []
  },
  "kernelspec": {
   "display_name": "Python 3 (ipykernel)",
   "language": "python",
   "name": "python3"
  },
  "language_info": {
   "codemirror_mode": {
    "name": "ipython",
    "version": 3
   },
   "file_extension": ".py",
   "mimetype": "text/x-python",
   "name": "python",
   "nbconvert_exporter": "python",
   "pygments_lexer": "ipython3",
   "version": "3.8.9"
  }
 },
 "nbformat": 4,
 "nbformat_minor": 1
}
